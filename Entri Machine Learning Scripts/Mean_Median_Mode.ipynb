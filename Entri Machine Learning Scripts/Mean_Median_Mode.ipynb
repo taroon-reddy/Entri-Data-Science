{
 "cells": [
  {
   "cell_type": "markdown",
   "id": "786294ed",
   "metadata": {},
   "source": [
    "# MEAN: \n",
    "<font color='blue'>Mean/Arithmetic average is one of the very important function, while working with statistics and large values. So, with the function like mean(), trending and featured values can be extracted from the large data sets.</font>"
   ]
  },
  {
   "cell_type": "code",
   "execution_count": 10,
   "id": "dd4c074a",
   "metadata": {},
   "outputs": [
    {
     "name": "stdout",
     "output_type": "stream",
     "text": [
      "Mean is : 8\n"
     ]
    }
   ],
   "source": [
    "\n",
    "# function from the statistics module\n",
    " \n",
    "# Importing the statistics module\n",
    "import statistics\n",
    " \n",
    "# list values\n",
    "df = [2, 4, 6, 8, 10, 12, 14]\n",
    " \n",
    "x = statistics.mean(data1)\n",
    " \n",
    "# Printing the mean of list\n",
    "print(\"Mean of list is :\", x)"
   ]
  },
  {
   "cell_type": "code",
   "execution_count": null,
   "id": "865631b4",
   "metadata": {},
   "outputs": [],
   "source": []
  },
  {
   "cell_type": "code",
   "execution_count": null,
   "id": "61fda3c4",
   "metadata": {},
   "outputs": [],
   "source": []
  },
  {
   "cell_type": "code",
   "execution_count": null,
   "id": "5efda144",
   "metadata": {},
   "outputs": [],
   "source": []
  },
  {
   "cell_type": "code",
   "execution_count": null,
   "id": "e608beb1",
   "metadata": {},
   "outputs": [],
   "source": []
  },
  {
   "cell_type": "markdown",
   "id": "6e23b665",
   "metadata": {},
   "source": [
    "# MEDIAN : \n",
    "<font color='blue'>The median is the measure of the central tendency of the properties of a data-set in statistics and probability theory. Median has a very big advantage over Mean, which is the median value is not skewed so much by extremely large or small values. \n",
    "The median value is either contained in the data-set of values provided or it doesn’t sway too much from the data provided.\n",
    "For odd set of elements, the median value is the middle one. \n",
    "For even set of elements, the median value is the mean of two middle elements. ( for large normal samples ).</font>"
   ]
  },
  {
   "cell_type": "code",
   "execution_count": 14,
   "id": "0e097e20",
   "metadata": {},
   "outputs": [
    {
     "name": "stdout",
     "output_type": "stream",
     "text": [
      "Median of data-set is : 3.5 \n"
     ]
    }
   ],
   "source": [
    "# working of median() function.\n",
    "\n",
    "# importing statistics module\n",
    "import statistics stats\n",
    "\n",
    "# unsorted list of random integers\n",
    "df = [2, -2, 3, 6, 9, 4, 5, -1]\n",
    "\n",
    "\n",
    "# Printing median of the list\n",
    "print(\"Median of list is : % s \"% (stats.median(data1)))\n"
   ]
  },
  {
   "cell_type": "code",
   "execution_count": null,
   "id": "03bce5e9",
   "metadata": {},
   "outputs": [],
   "source": []
  },
  {
   "cell_type": "code",
   "execution_count": null,
   "id": "63380f1c",
   "metadata": {},
   "outputs": [],
   "source": []
  },
  {
   "cell_type": "code",
   "execution_count": null,
   "id": "1dc1ed02",
   "metadata": {},
   "outputs": [],
   "source": []
  },
  {
   "cell_type": "code",
   "execution_count": null,
   "id": "05c1d7b8",
   "metadata": {},
   "outputs": [],
   "source": []
  },
  {
   "cell_type": "markdown",
   "id": "ed326514",
   "metadata": {},
   "source": [
    "# MODE\n",
    "<font color='blue'>The mode of a set of data values is the value that appears most often. It is the value at which the data is most likely to be sampled. A mode of a continuous probability distribution is often considered to be any value x at which its probability density function has a local maximum value, so any peak is a mode.</font>"
   ]
  },
  {
   "cell_type": "code",
   "execution_count": 18,
   "id": "0e69df9d",
   "metadata": {},
   "outputs": [
    {
     "name": "stdout",
     "output_type": "stream",
     "text": [
      "Mode of given data set is 5\n"
     ]
    }
   ],
   "source": [
    "# Importing the statistics module\n",
    "from statistics import mode\n",
    "# tuple values\n",
    "df = (2, 3, 3, 4, 5, 5, 5, 5, 6, 6, 6, 7)\n",
    "\n",
    "\n",
    "# Printing mode of the tuple\n",
    "print(\"Mode of tuple is % s\" % (statistics.mode(df)))"
   ]
  },
  {
   "cell_type": "code",
   "execution_count": null,
   "id": "5a7501d9",
   "metadata": {},
   "outputs": [],
   "source": []
  }
 ],
 "metadata": {
  "kernelspec": {
   "display_name": "Python 3 (ipykernel)",
   "language": "python",
   "name": "python3"
  },
  "language_info": {
   "codemirror_mode": {
    "name": "ipython",
    "version": 3
   },
   "file_extension": ".py",
   "mimetype": "text/x-python",
   "name": "python",
   "nbconvert_exporter": "python",
   "pygments_lexer": "ipython3",
   "version": "3.9.7"
  }
 },
 "nbformat": 4,
 "nbformat_minor": 5
}
