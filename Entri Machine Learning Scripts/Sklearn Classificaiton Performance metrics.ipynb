{
 "cells": [
  {
   "cell_type": "code",
   "execution_count": 1,
   "id": "3d7c10c8",
   "metadata": {},
   "outputs": [],
   "source": [
    "import pandas as pd\n",
    "import numpy as np\n",
    "import os\n",
    "import matplotlib.pyplot as plt"
   ]
  },
  {
   "cell_type": "markdown",
   "id": "28080b19",
   "metadata": {},
   "source": [
    "#### Actual Value\n",
    "labels = [1, 0, 0, 1, 1, 1, 0, 1, 1, 1]\n",
    "\n",
    "#### Predicted Value\n",
    "predictions = [0, 1, 1, 1, 1, 0, 1, 0, 1, 0]\n",
    "\n",
    "\n",
    "0– email is NOT spam (negative)\n",
    "\n",
    "1– email IS spam (positive)\n",
    "\n",
    "\n",
    "\n",
    "Key Terms 🔑\n",
    "True Positive ➕ ➕\n",
    "\n",
    "This case occurs when the label is positive and our predicted value is positive as well. \n",
    "In our scenario, when the email is spam and our model classified it as spam as well.\n",
    "\n",
    "False Positive ➖ ➕\n",
    "This case occurs when the label is negative but our model’s prediction is positive. \n",
    "In our scenario, when the email is not spam but our model classifies it as spam.\n",
    "\n",
    "True Negative ➖ ➖\n",
    "This is similar to True Positive, the only difference being the label and predicted value are both negative. \n",
    "In our scenario, when the email is not spam and our model classifies it as not spam as well.\n",
    "\n",
    "False Negative ➕ ➖\n",
    "This case occurs when the label is positive but the predicted value is negative. In a way, opposite of False Positive. \n",
    "In our scenario, when the email is spam but our model classifies it as not spam\n"
   ]
  },
  {
   "cell_type": "code",
   "execution_count": 2,
   "id": "c60ce55b",
   "metadata": {},
   "outputs": [],
   "source": [
    "# Actual Value\n",
    "labels = [1, 0, 0, 1, 1, 1, 0, 1, 1, 1]\n",
    "# Predicted Value\n",
    "predictions = [0, 1, 1, 1, 1, 0, 1, 0, 1, 0]"
   ]
  },
  {
   "cell_type": "code",
   "execution_count": 3,
   "id": "43eab68d",
   "metadata": {},
   "outputs": [
    {
     "name": "stdout",
     "output_type": "stream",
     "text": [
      "True Positive:  3\n"
     ]
    }
   ],
   "source": [
    "TP = 0\n",
    "for i in range(0,len(labels)):\n",
    "    if labels[i] == predictions[i] and labels[i] == 1:\n",
    "       TP+=1\n",
    "print(\"True Positive: \", TP) # 3"
   ]
  },
  {
   "cell_type": "code",
   "execution_count": 4,
   "id": "8bafc6dd",
   "metadata": {},
   "outputs": [
    {
     "name": "stdout",
     "output_type": "stream",
     "text": [
      "False Positive:  3\n"
     ]
    }
   ],
   "source": [
    "FP = 0\n",
    "for i in range(0,len(labels)):\n",
    "    if labels[i] == 0 and predictions[i] == 1:\n",
    "       FP+=1\n",
    "print(\"False Positive: \", FP) # 3"
   ]
  },
  {
   "cell_type": "code",
   "execution_count": 5,
   "id": "4e36e9fd",
   "metadata": {},
   "outputs": [
    {
     "name": "stdout",
     "output_type": "stream",
     "text": [
      "True Negative:  0\n"
     ]
    }
   ],
   "source": [
    "TN = 0\n",
    "for i in range(0,len(labels)):\n",
    "    if labels[i] == predictions[i] and labels[i] == 0:\n",
    "       TN+=1\n",
    "print(\"True Negative: \", TN) # 0"
   ]
  },
  {
   "cell_type": "code",
   "execution_count": 6,
   "id": "a6a87d57",
   "metadata": {},
   "outputs": [
    {
     "name": "stdout",
     "output_type": "stream",
     "text": [
      "False Negative:  4\n"
     ]
    }
   ],
   "source": [
    "FN = 0\n",
    "for i in range(0,len(labels)):\n",
    "    if labels[i] == 1 and predictions[i] == 0:\n",
    "       FN+=1\n",
    "print(\"False Negative: \", FN) # 4"
   ]
  },
  {
   "cell_type": "code",
   "execution_count": null,
   "id": "cdc15b71",
   "metadata": {},
   "outputs": [],
   "source": []
  },
  {
   "cell_type": "code",
   "execution_count": 7,
   "id": "db61dbb4",
   "metadata": {},
   "outputs": [
    {
     "name": "stdout",
     "output_type": "stream",
     "text": [
      "Correct Prediction:  3\n",
      "True\n"
     ]
    }
   ],
   "source": [
    "CP = 0\n",
    "for i in range(0,len(labels)):\n",
    "    if labels[i] == predictions[i]:\n",
    "       CP+=1\n",
    "print(\"Correct Prediction: \", CP) # 3\n",
    "print(CP == TP + TN) # True"
   ]
  },
  {
   "cell_type": "code",
   "execution_count": 8,
   "id": "572b0fc6",
   "metadata": {},
   "outputs": [
    {
     "name": "stdout",
     "output_type": "stream",
     "text": [
      "Incorrect Prediction:  7\n",
      "True\n"
     ]
    }
   ],
   "source": [
    "ICP = 0\n",
    "for i in range(0,len(labels)):\n",
    "    if labels[i] != predictions[i]:\n",
    "       ICP+=1\n",
    "print(\"Incorrect Prediction: \", ICP)# 7\n",
    "print(ICP == FP + FN) # True"
   ]
  },
  {
   "cell_type": "markdown",
   "id": "957c110d",
   "metadata": {},
   "source": [
    "### Accuracy 🎯"
   ]
  },
  {
   "cell_type": "markdown",
   "id": "844a9080",
   "metadata": {},
   "source": [
    "### Without Sklearn"
   ]
  },
  {
   "cell_type": "code",
   "execution_count": 9,
   "id": "086bcbe4",
   "metadata": {},
   "outputs": [
    {
     "name": "stdout",
     "output_type": "stream",
     "text": [
      "30.0\n"
     ]
    }
   ],
   "source": [
    "accuracy = (TP + TN)/(TP + FP + TN + FN)\n",
    "print(accuracy*100) "
   ]
  },
  {
   "cell_type": "markdown",
   "id": "9fc5e345",
   "metadata": {},
   "source": [
    "### With Sklearn"
   ]
  },
  {
   "cell_type": "code",
   "execution_count": 10,
   "id": "923e2880",
   "metadata": {},
   "outputs": [
    {
     "name": "stdout",
     "output_type": "stream",
     "text": [
      "30.0\n"
     ]
    }
   ],
   "source": [
    "from sklearn.metrics import accuracy_score\n",
    "print(accuracy_score(labels , predictions)*100)"
   ]
  },
  {
   "cell_type": "code",
   "execution_count": null,
   "id": "aacc19b0",
   "metadata": {},
   "outputs": [],
   "source": [
    "labels = [0,0,0,0,1,0,0,1,0,0]\n",
    "predictions = [0 ,0 ,0 ,0 ,0 , 0 ,0 ,0 ,0 ,0]\n",
    "print(accuracy_score(labels , predictions)*100) # 80"
   ]
  },
  {
   "cell_type": "markdown",
   "id": "349f4bf2",
   "metadata": {},
   "source": [
    "### Recall 📲"
   ]
  },
  {
   "cell_type": "markdown",
   "id": "eaefb99a",
   "metadata": {},
   "source": [
    "### Without Sklearn"
   ]
  },
  {
   "cell_type": "code",
   "execution_count": 11,
   "id": "2a2e0adc",
   "metadata": {},
   "outputs": [
    {
     "name": "stdout",
     "output_type": "stream",
     "text": [
      "42.857142857142854\n"
     ]
    }
   ],
   "source": [
    "recall = (TP)/(TP+FN)\n",
    "print(recall*100)"
   ]
  },
  {
   "cell_type": "markdown",
   "id": "4f775805",
   "metadata": {},
   "source": [
    "### With Sklearn"
   ]
  },
  {
   "cell_type": "code",
   "execution_count": 12,
   "id": "82df6976",
   "metadata": {},
   "outputs": [
    {
     "name": "stdout",
     "output_type": "stream",
     "text": [
      "0.42857142857142855\n"
     ]
    }
   ],
   "source": [
    "from sklearn.metrics import recall_score\n",
    "\n",
    "print(recall_score(labels,predictions))"
   ]
  },
  {
   "cell_type": "code",
   "execution_count": 15,
   "id": "83e4d8cd",
   "metadata": {},
   "outputs": [
    {
     "name": "stdout",
     "output_type": "stream",
     "text": [
      "20.0\n",
      "100.0\n"
     ]
    }
   ],
   "source": [
    "labels = [0,0,0,0,1,0,0,1,0,0]\n",
    "predictions = [1,1,1,1,1,1,1,1,1,1]\n",
    "print(accuracy_score(labels , predictions)*100)\n",
    "print(recall_score(labels , predictions)*100)"
   ]
  },
  {
   "cell_type": "markdown",
   "id": "a952e407",
   "metadata": {},
   "source": [
    "### Precision 🐾"
   ]
  },
  {
   "cell_type": "markdown",
   "id": "21f842d2",
   "metadata": {},
   "source": [
    "### Without Sklearn"
   ]
  },
  {
   "cell_type": "code",
   "execution_count": 13,
   "id": "cbac7fe9",
   "metadata": {},
   "outputs": [
    {
     "name": "stdout",
     "output_type": "stream",
     "text": [
      "0.5\n"
     ]
    }
   ],
   "source": [
    "precision = TP/(TP+FP)\n",
    "print(precision)"
   ]
  },
  {
   "cell_type": "markdown",
   "id": "5e3f3b33",
   "metadata": {},
   "source": [
    "### With Sklearn"
   ]
  },
  {
   "cell_type": "code",
   "execution_count": 14,
   "id": "3cda24c7",
   "metadata": {},
   "outputs": [
    {
     "name": "stdout",
     "output_type": "stream",
     "text": [
      "50.0\n"
     ]
    }
   ],
   "source": [
    "from sklearn.metrics import precision_score\n",
    "print(precision_score(labels,predictions)*100)"
   ]
  },
  {
   "cell_type": "markdown",
   "id": "7fcac71d",
   "metadata": {},
   "source": [
    "### F1 Score 🚗"
   ]
  },
  {
   "cell_type": "code",
   "execution_count": 16,
   "id": "f39eb362",
   "metadata": {},
   "outputs": [
    {
     "name": "stdout",
     "output_type": "stream",
     "text": [
      "0.6\n",
      "0.33333333333333337\n"
     ]
    }
   ],
   "source": [
    "AM = (1 + 0.2)/2\n",
    "HM = 2*(1*0.2)/(1+0.2)\n",
    "print(AM)# 0.6\n",
    "print(HM)# 0.333"
   ]
  },
  {
   "cell_type": "markdown",
   "id": "177bc592",
   "metadata": {},
   "source": [
    "### Without Sklearn"
   ]
  },
  {
   "cell_type": "code",
   "execution_count": 17,
   "id": "9cb5d61e",
   "metadata": {},
   "outputs": [
    {
     "name": "stdout",
     "output_type": "stream",
     "text": [
      "0.4615384615384615\n"
     ]
    }
   ],
   "source": [
    "f1 = 2*(precision * recall)/(precision + recall)\n",
    "print(f1)"
   ]
  },
  {
   "cell_type": "markdown",
   "id": "0a1d4eef",
   "metadata": {},
   "source": [
    "### With Sklearn"
   ]
  },
  {
   "cell_type": "code",
   "execution_count": 18,
   "id": "a009f640",
   "metadata": {},
   "outputs": [
    {
     "name": "stdout",
     "output_type": "stream",
     "text": [
      "0.33333333333333337\n"
     ]
    }
   ],
   "source": [
    "from sklearn.metrics import f1_score\n",
    "print(f1_score(labels, predictions))"
   ]
  },
  {
   "cell_type": "code",
   "execution_count": 19,
   "id": "b2b98022",
   "metadata": {},
   "outputs": [],
   "source": [
    "# Actual Value\n",
    "labels =      [1, 0, 0, 1, 1, 1, 0, 1, 1, 1]\n",
    "# Predicted Value\n",
    "predictions = [0, 0, 1, 1, 1, 0, 1, 0, 1, 0]"
   ]
  },
  {
   "cell_type": "code",
   "execution_count": null,
   "id": "7a2c7080",
   "metadata": {},
   "outputs": [],
   "source": []
  },
  {
   "cell_type": "code",
   "execution_count": 20,
   "id": "3f098a13",
   "metadata": {},
   "outputs": [
    {
     "name": "stdout",
     "output_type": "stream",
     "text": [
      "              precision    recall  f1-score   support\n",
      "\n",
      "           0       0.20      0.33      0.25         3\n",
      "           1       0.60      0.43      0.50         7\n",
      "\n",
      "    accuracy                           0.40        10\n",
      "   macro avg       0.40      0.38      0.38        10\n",
      "weighted avg       0.48      0.40      0.42        10\n",
      "\n"
     ]
    }
   ],
   "source": [
    "from sklearn.metrics import classification_report\n",
    "#target_names = ['1','0']\n",
    "\n",
    "print(classification_report(labels, predictions))\n",
    "\n",
    "\n",
    "#target_names=target_names)"
   ]
  },
  {
   "cell_type": "code",
   "execution_count": 21,
   "id": "00dfea5b",
   "metadata": {},
   "outputs": [
    {
     "name": "stdout",
     "output_type": "stream",
     "text": [
      "              precision    recall  f1-score   support\n",
      "\n",
      "     class 0       0.50      1.00      0.67         1\n",
      "     class 1       0.00      0.00      0.00         1\n",
      "     class 2       1.00      0.67      0.80         3\n",
      "\n",
      "    accuracy                           0.60         5\n",
      "   macro avg       0.50      0.56      0.49         5\n",
      "weighted avg       0.70      0.60      0.61         5\n",
      "\n",
      "              precision    recall  f1-score   support\n",
      "\n",
      "           1       1.00      0.67      0.80         3\n",
      "           2       0.00      0.00      0.00         0\n",
      "           3       0.00      0.00      0.00         0\n",
      "\n",
      "   micro avg       1.00      0.67      0.80         3\n",
      "   macro avg       0.33      0.22      0.27         3\n",
      "weighted avg       1.00      0.67      0.80         3\n",
      "\n"
     ]
    },
    {
     "name": "stderr",
     "output_type": "stream",
     "text": [
      "C:\\Users\\HP\\DS\\anaconda3\\lib\\site-packages\\sklearn\\metrics\\_classification.py:1248: UndefinedMetricWarning: Precision and F-score are ill-defined and being set to 0.0 in labels with no predicted samples. Use `zero_division` parameter to control this behavior.\n",
      "  _warn_prf(average, modifier, msg_start, len(result))\n",
      "C:\\Users\\HP\\DS\\anaconda3\\lib\\site-packages\\sklearn\\metrics\\_classification.py:1248: UndefinedMetricWarning: Recall and F-score are ill-defined and being set to 0.0 in labels with no true samples. Use `zero_division` parameter to control this behavior.\n",
      "  _warn_prf(average, modifier, msg_start, len(result))\n",
      "C:\\Users\\HP\\DS\\anaconda3\\lib\\site-packages\\sklearn\\metrics\\_classification.py:1248: UndefinedMetricWarning: Precision and F-score are ill-defined and being set to 0.0 in labels with no predicted samples. Use `zero_division` parameter to control this behavior.\n",
      "  _warn_prf(average, modifier, msg_start, len(result))\n",
      "C:\\Users\\HP\\DS\\anaconda3\\lib\\site-packages\\sklearn\\metrics\\_classification.py:1248: UndefinedMetricWarning: Recall and F-score are ill-defined and being set to 0.0 in labels with no true samples. Use `zero_division` parameter to control this behavior.\n",
      "  _warn_prf(average, modifier, msg_start, len(result))\n",
      "C:\\Users\\HP\\DS\\anaconda3\\lib\\site-packages\\sklearn\\metrics\\_classification.py:1248: UndefinedMetricWarning: Precision and F-score are ill-defined and being set to 0.0 in labels with no predicted samples. Use `zero_division` parameter to control this behavior.\n",
      "  _warn_prf(average, modifier, msg_start, len(result))\n",
      "C:\\Users\\HP\\DS\\anaconda3\\lib\\site-packages\\sklearn\\metrics\\_classification.py:1248: UndefinedMetricWarning: Recall and F-score are ill-defined and being set to 0.0 in labels with no true samples. Use `zero_division` parameter to control this behavior.\n",
      "  _warn_prf(average, modifier, msg_start, len(result))\n"
     ]
    }
   ],
   "source": [
    "from sklearn.metrics import classification_report\n",
    "y_true = [0, 1, 2, 2, 2]\n",
    "y_pred = [0, 0, 2, 2, 1]\n",
    "\n",
    "target_names = ['class 0', 'class 1', 'class 2']\n",
    "\n",
    "print(classification_report(y_true, y_pred, target_names=target_names))\n",
    "             \n",
    "\n",
    "y_pred = [1, 1, 0]\n",
    "y_true = [1, 1, 1]\n",
    "\n",
    "print(classification_report(y_true, y_pred, labels=[1, 2, 3]))\n",
    "             \n"
   ]
  },
  {
   "cell_type": "code",
   "execution_count": null,
   "id": "d5dc2931",
   "metadata": {},
   "outputs": [],
   "source": []
  },
  {
   "cell_type": "markdown",
   "id": "e3482fce",
   "metadata": {},
   "source": [
    "### Calculating Confusion Matrix using sklearn"
   ]
  },
  {
   "cell_type": "code",
   "execution_count": 22,
   "id": "431dc117",
   "metadata": {},
   "outputs": [],
   "source": [
    "from sklearn.metrics import confusion_matrix\n",
    "confusion = confusion_matrix(labels, predictions)\n",
    "FN = confusion[1][0]\n",
    "TN = confusion[0][0]\n",
    "TP = confusion[1][1]\n",
    "FP = confusion[0][1]"
   ]
  },
  {
   "cell_type": "markdown",
   "id": "b8c6ee59",
   "metadata": {},
   "source": [
    "### Displaying Confusion Matrix as Bar Graph"
   ]
  },
  {
   "cell_type": "code",
   "execution_count": 23,
   "id": "56b4c9d9",
   "metadata": {},
   "outputs": [
    {
     "data": {
      "image/png": "[encoded data removed]",
      "text/plain": [
       "<Figure size 432x288 with 1 Axes>"
      ]
     },
     "metadata": {
      "needs_background": "light"
     },
     "output_type": "display_data"
    }
   ],
   "source": [
    "plt.bar(['False Negative' , 'True Negative' , 'True Positive' , 'False Positive'],[FN,TN,TP,FP])\n",
    "plt.show()"
   ]
  },
  {
   "cell_type": "markdown",
   "id": "cd48fd18",
   "metadata": {},
   "source": [
    "### Displaying Confusion Matrix as Heatmap"
   ]
  },
  {
   "cell_type": "code",
   "execution_count": 24,
   "id": "59fc2bb9",
   "metadata": {},
   "outputs": [
    {
     "data": {
      "image/png": "[encoded data removed]",
      "text/plain": [
       "<Figure size 432x288 with 2 Axes>"
      ]
     },
     "metadata": {
      "needs_background": "light"
     },
     "output_type": "display_data"
    }
   ],
   "source": [
    "import seaborn as sns\n",
    "sns.heatmap(confusion , annot=True , xticklabels=['Negative' , 'Positive'] , yticklabels=['Negative' , 'Positive'])\n",
    "plt.ylabel(\"Label\")\n",
    "plt.xlabel(\"Predicted\")\n",
    "plt.show()"
   ]
  },
  {
   "cell_type": "markdown",
   "id": "ee3e99ee",
   "metadata": {},
   "source": [
    "### Displaying Confusion Matrix using Pandas"
   ]
  },
  {
   "cell_type": "code",
   "execution_count": 25,
   "id": "49fa34b3",
   "metadata": {},
   "outputs": [
    {
     "name": "stdout",
     "output_type": "stream",
     "text": [
      "Predictions  0  1\n",
      "Labels           \n",
      "0            1  2\n",
      "1            4  3\n"
     ]
    }
   ],
   "source": [
    "import pandas as pd\n",
    "data = {'Labels' : labels, 'Predictions': predictions}\n",
    "df = pd.DataFrame(data, columns=['Labels','Predictions'])\n",
    "confusion_matrix = pd.crosstab(df['Labels'], df['Predictions'], rownames=['Labels'], colnames=['Predictions'])\n",
    "print (confusion_matrix)"
   ]
  },
  {
   "cell_type": "code",
   "execution_count": null,
   "id": "920aa67a",
   "metadata": {},
   "outputs": [],
   "source": []
  }
 ],
 "metadata": {
  "kernelspec": {
   "display_name": "Python 3 (ipykernel)",
   "language": "python",
   "name": "python3"
  },
  "language_info": {
   "codemirror_mode": {
    "name": "ipython",
    "version": 3
   },
   "file_extension": ".py",
   "mimetype": "text/x-python",
   "name": "python",
   "nbconvert_exporter": "python",
   "pygments_lexer": "ipython3",
   "version": "3.9.7"
  }
 },
 "nbformat": 4,
 "nbformat_minor": 5
}
