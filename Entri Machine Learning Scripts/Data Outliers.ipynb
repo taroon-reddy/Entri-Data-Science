{
 "cells": [
  {
   "cell_type": "code",
   "execution_count": 160,
   "id": "a1038084",
   "metadata": {},
   "outputs": [
    {
     "name": "stdout",
     "output_type": "stream",
     "text": [
      "[15, 101, 18, 7, 13, 16, 11, 21, 5, 15, 10, 9]\n"
     ]
    }
   ],
   "source": [
    "sample= [15, 101, 18, 7, 13, 16, 11, 21, 5, 15, 10, 9]\n",
    "\n",
    "print(sample)\n",
    "#print(type(sample))"
   ]
  },
  {
   "cell_type": "code",
   "execution_count": 161,
   "id": "cd2b1270",
   "metadata": {},
   "outputs": [
    {
     "data": {
      "text/plain": [
       "Text(0.5, 0, 'Sample')"
      ]
     },
     "execution_count": 161,
     "metadata": {},
     "output_type": "execute_result"
    },
    {
     "data": {
      "image/png": "[encoded data removed]",
      "text/plain": [
       "<Figure size 432x288 with 1 Axes>"
      ]
     },
     "metadata": {
      "needs_background": "light"
     },
     "output_type": "display_data"
    }
   ],
   "source": [
    "import matplotlib.pyplot as plt\n",
    "plt.boxplot(sample, vert=False)\n",
    "plt.title(\"Detecting outliers using Boxplot\")\n",
    "plt.xlabel('Sample')"
   ]
  },
  {
   "cell_type": "code",
   "execution_count": 162,
   "id": "773d621c",
   "metadata": {},
   "outputs": [
    {
     "name": "stdout",
     "output_type": "stream",
     "text": [
      "Outliers from Z-scores method:  [101]\n"
     ]
    }
   ],
   "source": [
    "#Outliers from Z-scores method\n",
    "\n",
    "import numpy as np\n",
    "outliers = []\n",
    "\n",
    "def detect_outliers_zscore(data):\n",
    "    thres = 3\n",
    "    mean = np.mean(data)\n",
    "    std = np.std(data)\n",
    "    # print(mean, std)\n",
    "    for i in data:\n",
    "        z_score = (i-mean)/std\n",
    "        if (np.abs(z_score) > thres):\n",
    "            outliers.append(i)\n",
    "    return outliers# Driver code\n",
    "\n",
    "sample_outliers = detect_outliers_zscore(sample)\n",
    "print(\"Outliers from Z-scores method: \", sample_outliers)\n"
   ]
  },
  {
   "cell_type": "code",
   "execution_count": 163,
   "id": "0afda312",
   "metadata": {},
   "outputs": [
    {
     "name": "stdout",
     "output_type": "stream",
     "text": [
      "Outliers from IQR method:  [101]\n"
     ]
    }
   ],
   "source": [
    "#Detecting outliers using the Inter Quantile Range(IQR)\n",
    "\n",
    "outliers = []\n",
    "\n",
    "def detect_outliers_iqr(data):\n",
    "    data = sorted(data)\n",
    "    q1 = np.percentile(data, 25)\n",
    "    q3 = np.percentile(data, 75)\n",
    "    # print(q1, q3)\n",
    "    IQR = q3-q1\n",
    "    lwr_bound = q1-(1.5*IQR)\n",
    "    upr_bound = q3+(1.5*IQR)\n",
    "    # print(lwr_bound, upr_bound)\n",
    "    for i in data: \n",
    "        if (i<lwr_bound or i>upr_bound):\n",
    "            outliers.append(i)\n",
    "    return outliers# Driver code\n",
    "\n",
    "sample_outliers = detect_outliers_iqr(sample)\n",
    "print(\"Outliers from IQR method: \", sample_outliers)"
   ]
  },
  {
   "cell_type": "code",
   "execution_count": 164,
   "id": "550e7374",
   "metadata": {},
   "outputs": [
    {
     "data": {
      "text/plain": [
       "numpy.ndarray"
      ]
     },
     "execution_count": 164,
     "metadata": {},
     "output_type": "execute_result"
    }
   ],
   "source": [
    "sample_outliers=np.array([sample_outliers])\n",
    "type(sample_outliers)"
   ]
  },
  {
   "cell_type": "code",
   "execution_count": null,
   "id": "90c6c3d6",
   "metadata": {},
   "outputs": [],
   "source": [
    "sample_outliers"
   ]
  },
  {
   "cell_type": "code",
   "execution_count": 166,
   "id": "083d3f23",
   "metadata": {},
   "outputs": [
    {
     "data": {
      "text/plain": [
       "[15, 101, 18, 7, 13, 16, 11, 21, 5, 15, 10, 9]"
      ]
     },
     "execution_count": 166,
     "metadata": {},
     "output_type": "execute_result"
    }
   ],
   "source": [
    "sample"
   ]
  },
  {
   "cell_type": "code",
   "execution_count": 165,
   "id": "fd83bc18",
   "metadata": {},
   "outputs": [
    {
     "name": "stdout",
     "output_type": "stream",
     "text": [
      "[15 18  7 13 16 11 21  5 15 10  9]\n",
      "12 11\n"
     ]
    }
   ],
   "source": [
    "#5.1 Trimming/Remove the outliers\n",
    "for i in sample_outliers:\n",
    "    a = np.delete(sample, np.where(sample==i))\n",
    "    print(a)\n",
    "    \n",
    "    \n",
    "\n",
    "print(len(sample), len(a))"
   ]
  },
  {
   "cell_type": "code",
   "execution_count": 170,
   "id": "5c3912e9",
   "metadata": {},
   "outputs": [
    {
     "name": "stdout",
     "output_type": "stream",
     "text": [
      "Sample: [15, 101, 18, 7, 13, 16, 11, 21, 5, 15, 10, 9]\n",
      "New array: [15.  20.7 18.   7.2 13.  16.  11.  20.7  7.2 15.  10.   9. ]\n"
     ]
    }
   ],
   "source": [
    "#5.2 Quantile based flooring and capping\n",
    "\n",
    "# Computing 10th, 90th percentiles and replacing the outliers\n",
    "\n",
    "tenth_percentile = np.percentile(sample, 10)\n",
    "ninetieth_percentile = np.percentile(sample, 90)\n",
    "\n",
    "# print(tenth_percentile, ninetieth_percentile)\n",
    "\n",
    "b = np.where(sample<tenth_percentile, tenth_percentile, sample)\n",
    "\n",
    "b = np.where(b>ninetieth_percentile, ninetieth_percentile, b)\n",
    "\n",
    "print(\"Sample:\", sample)\n",
    "print(\"New array:\",b)"
   ]
  },
  {
   "cell_type": "code",
   "execution_count": 167,
   "id": "c2134d1d",
   "metadata": {},
   "outputs": [
    {
     "data": {
      "text/plain": [
       "[15, 101, 18, 7, 13, 16, 11, 21, 5, 15, 10, 9]"
      ]
     },
     "execution_count": 167,
     "metadata": {},
     "output_type": "execute_result"
    }
   ],
   "source": [
    "sample"
   ]
  },
  {
   "cell_type": "code",
   "execution_count": 171,
   "id": "03cb30cb",
   "metadata": {},
   "outputs": [
    {
     "name": "stdout",
     "output_type": "stream",
     "text": [
      "Sample:  [15, 101, 18, 7, 13, 16, 11, 21, 5, 15, 10, 9]\n",
      "New array:  [15 14 18  7 13 16 11 21  5 15 10  9]\n"
     ]
    }
   ],
   "source": [
    "#5.3 Mean/Median imputation\n",
    "\n",
    "\n",
    "median = np.median(sample)# Replace with median\n",
    "for i in sample_outliers:\n",
    "    c = np.where(sample==i, 14, sample)\n",
    "print(\"Sample: \", sample)\n",
    "print(\"New array: \",c)\n",
    "# print(x.dtype)"
   ]
  },
  {
   "cell_type": "code",
   "execution_count": null,
   "id": "8b80d22a",
   "metadata": {},
   "outputs": [],
   "source": []
  },
  {
   "cell_type": "code",
   "execution_count": null,
   "id": "81767013",
   "metadata": {},
   "outputs": [],
   "source": []
  },
  {
   "cell_type": "code",
   "execution_count": null,
   "id": "b9875f94",
   "metadata": {},
   "outputs": [],
   "source": []
  },
  {
   "cell_type": "code",
   "execution_count": null,
   "id": "74e3421f",
   "metadata": {},
   "outputs": [],
   "source": []
  },
  {
   "cell_type": "code",
   "execution_count": null,
   "id": "19ecdf66",
   "metadata": {},
   "outputs": [],
   "source": []
  },
  {
   "cell_type": "code",
   "execution_count": null,
   "id": "f9581d6e",
   "metadata": {},
   "outputs": [],
   "source": []
  },
  {
   "cell_type": "code",
   "execution_count": null,
   "id": "f67bacc7",
   "metadata": {},
   "outputs": [],
   "source": []
  },
  {
   "cell_type": "code",
   "execution_count": null,
   "id": "b9d142e3",
   "metadata": {},
   "outputs": [],
   "source": []
  },
  {
   "cell_type": "code",
   "execution_count": null,
   "id": "34e78fa6",
   "metadata": {},
   "outputs": [],
   "source": [
    "#Try this later\n",
    "plt.boxplot(c.values(), vert=False)\n",
    "plt.title(\"Boxplot of the sample after treating the outliers\")\n",
    "plt.xlabel(\"Sample\")"
   ]
  },
  {
   "cell_type": "code",
   "execution_count": null,
   "id": "e999ad2f",
   "metadata": {},
   "outputs": [],
   "source": []
  },
  {
   "cell_type": "code",
   "execution_count": null,
   "id": "a3574f63",
   "metadata": {},
   "outputs": [],
   "source": []
  }
 ],
 "metadata": {
  "kernelspec": {
   "display_name": "Python 3 (ipykernel)",
   "language": "python",
   "name": "python3"
  },
  "language_info": {
   "codemirror_mode": {
    "name": "ipython",
    "version": 3
   },
   "file_extension": ".py",
   "mimetype": "text/x-python",
   "name": "python",
   "nbconvert_exporter": "python",
   "pygments_lexer": "ipython3",
   "version": "3.9.7"
  }
 },
 "nbformat": 4,
 "nbformat_minor": 5
}
