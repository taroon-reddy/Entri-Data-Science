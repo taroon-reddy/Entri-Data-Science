{
 "cells": [
  {
   "cell_type": "markdown",
   "id": "a133dd41",
   "metadata": {},
   "source": [
    "## Performing Linear Regresssion for Venture Capitalist \n",
    "### 50 Startup's DataSet\n"
   ]
  },
  {
   "cell_type": "code",
   "execution_count": null,
   "id": "694d619a",
   "metadata": {},
   "outputs": [],
   "source": [
    "## Importing Packages"
   ]
  },
  {
   "cell_type": "code",
   "execution_count": null,
   "id": "be1ced3e",
   "metadata": {},
   "outputs": [],
   "source": [
    "import os \n",
    "# OS module functions for interacting with the operating system.\n",
    "import numpy as np  \n",
    "# for numerical array processing\n",
    "import pandas as pd \n",
    "# for Data Manipulation\n",
    "import matplotlib.pyplot as plt \n",
    "#for Data visualization"
   ]
  },
  {
   "cell_type": "markdown",
   "id": "72495dea",
   "metadata": {},
   "source": [
    "### Reading 50 Starup's Dataset"
   ]
  },
  {
   "cell_type": "code",
   "execution_count": null,
   "id": "b36faec1",
   "metadata": {},
   "outputs": [],
   "source": [
    "print(os.getcwd())\n",
    "#read current working directory\n",
    "\n",
    "#To set access to folder containing your file\n",
    "\n",
    "os.chdir('D:\\Artificial Intelligence\\Datasets')\n",
    "print(os.getcwd())\n",
    "\n",
    "#read current working directory\n",
    "\n",
    "\n",
    "\n",
    "\n",
    "#using pandas pd to read a csv type of file\n",
    "\n",
    "dataset = pd.read_csv('VC_Startups.csv') \n",
    "dataset\n",
    "\n"
   ]
  },
  {
   "cell_type": "code",
   "execution_count": null,
   "id": "cf45a136",
   "metadata": {},
   "outputs": [],
   "source": [
    "dataset.describe().T #108678.709792"
   ]
  },
  {
   "cell_type": "markdown",
   "id": "93fca2cc",
   "metadata": {},
   "source": [
    "### DataSet Inspection"
   ]
  },
  {
   "cell_type": "code",
   "execution_count": null,
   "id": "7668fba0",
   "metadata": {},
   "outputs": [],
   "source": [
    "#rows & columns\n",
    "\n",
    "dataset.shape"
   ]
  },
  {
   "cell_type": "code",
   "execution_count": null,
   "id": "4faa3a86",
   "metadata": {},
   "outputs": [],
   "source": [
    "dataset.iloc[0:3,0:]"
   ]
  },
  {
   "cell_type": "code",
   "execution_count": null,
   "id": "8e5c83fc",
   "metadata": {},
   "outputs": [],
   "source": [
    "#Default top 5 rows \n",
    "\n",
    "dataset.head()"
   ]
  },
  {
   "cell_type": "code",
   "execution_count": null,
   "id": "f2a2ed14",
   "metadata": {},
   "outputs": [],
   "source": [
    "#Default bottom 5 rows \n",
    "\n",
    "dataset.tail()"
   ]
  },
  {
   "cell_type": "markdown",
   "id": "3e9e51c8",
   "metadata": {},
   "source": [
    "### DataSet Null Values"
   ]
  },
  {
   "cell_type": "code",
   "execution_count": null,
   "id": "f0dbd3ab",
   "metadata": {},
   "outputs": [],
   "source": [
    "#To check for null values in dataset\n",
    "\n",
    "dataset.isnull().any()"
   ]
  },
  {
   "cell_type": "code",
   "execution_count": null,
   "id": "267ebdda",
   "metadata": {},
   "outputs": [],
   "source": [
    "dat.isna().sum()tase"
   ]
  },
  {
   "cell_type": "code",
   "execution_count": null,
   "id": "a97783f1",
   "metadata": {},
   "outputs": [],
   "source": [
    "#from sklearn.impute import SimpleImputer\n",
    "\n",
    "#imp = SimpleImputer(strategy=\"most_frequent\")\n",
    "#df = imp.fit_transform(dataset)"
   ]
  },
  {
   "cell_type": "code",
   "execution_count": null,
   "id": "5a7a91b2",
   "metadata": {},
   "outputs": [],
   "source": [
    "df"
   ]
  },
  {
   "cell_type": "code",
   "execution_count": null,
   "id": "df710019",
   "metadata": {},
   "outputs": [],
   "source": [
    "#imp = SimpleImputer(missing_values=np.nan, strategy='mean')\n",
    "#df = imp.fit_transform(dataset)"
   ]
  },
  {
   "cell_type": "code",
   "execution_count": null,
   "id": "dd227e15",
   "metadata": {},
   "outputs": [],
   "source": [
    "dataset['Profit'].fillna(dataset['Profit'].mean(), inplace = True)\n",
    "dataset['State'].fillna(dataset['State'].mode(), inplace = True)\n"
   ]
  },
  {
   "cell_type": "code",
   "execution_count": null,
   "id": "2a5a3435",
   "metadata": {},
   "outputs": [],
   "source": [
    "dataset.head()"
   ]
  },
  {
   "cell_type": "code",
   "execution_count": null,
   "id": "396d3c0d",
   "metadata": {},
   "outputs": [],
   "source": [
    "dataset.isnull().sum()"
   ]
  },
  {
   "cell_type": "code",
   "execution_count": null,
   "id": "e195bac9",
   "metadata": {},
   "outputs": [],
   "source": [
    "dataset.head()"
   ]
  },
  {
   "cell_type": "code",
   "execution_count": null,
   "id": "40b23e32",
   "metadata": {},
   "outputs": [],
   "source": [
    "#To check for duplicate records\n",
    "\n",
    "dataset.duplicated().sum()"
   ]
  },
  {
   "cell_type": "markdown",
   "id": "e5841796",
   "metadata": {},
   "source": [
    "### Variables Analysis"
   ]
  },
  {
   "cell_type": "code",
   "execution_count": null,
   "id": "a5f9b903",
   "metadata": {},
   "outputs": [],
   "source": [
    "\"\"\"\n",
    "R&D Spend\n",
    "\"\"\"\n",
    "rds = dataset.iloc[:,0]\n",
    "rds.head()"
   ]
  },
  {
   "cell_type": "code",
   "execution_count": null,
   "id": "601d019a",
   "metadata": {},
   "outputs": [],
   "source": [
    "#calling it as x\n",
    "x = rds.values\n",
    "x"
   ]
  },
  {
   "cell_type": "code",
   "execution_count": null,
   "id": "a90f522e",
   "metadata": {},
   "outputs": [],
   "source": [
    "\"\"\"\n",
    "Profit\n",
    "\"\"\"\n",
    "prft = dataset.iloc[:, 4] \n",
    "prft.head()"
   ]
  },
  {
   "cell_type": "code",
   "execution_count": null,
   "id": "e212e2fb",
   "metadata": {},
   "outputs": [],
   "source": [
    "#calling it as y\n",
    "y = prft.values \n",
    "y"
   ]
  },
  {
   "cell_type": "code",
   "execution_count": null,
   "id": "ccac6ca4",
   "metadata": {},
   "outputs": [],
   "source": [
    "\"\"\"\n",
    "# R & D ~ Profit -  Visualizations \n",
    "-----\n",
    "\"\"\"\n",
    "\n",
    "plt.scatter(x,y,label='',color='k',s=100)\n",
    "plt.xlabel('R&D')\n",
    "plt.ylabel('Profit') \n",
    "plt.title('Profit vs R&D Spend') \n",
    "plt.legend()\n",
    "plt.show()\n"
   ]
  },
  {
   "cell_type": "code",
   "execution_count": null,
   "id": "40d6cb2e",
   "metadata": {},
   "outputs": [],
   "source": [
    "\"\"\"\n",
    "Administration\n",
    "\"\"\"\n",
    "\n",
    "\n",
    "admin = dataset.iloc[:, 1]\n",
    "admin\n",
    "\n",
    "\n",
    "x = admin.values \n",
    "x"
   ]
  },
  {
   "cell_type": "code",
   "execution_count": null,
   "id": "ba337506",
   "metadata": {},
   "outputs": [],
   "source": [
    "\"\"\"\n",
    "Administration ~ Profit - Visualziaton\n",
    "\"\"\"\n",
    "plt.scatter(x,y,label='',color='k') \n",
    "plt.xlabel('Admin') \n",
    "plt.ylabel('Profit') \n",
    "plt.title('Profit vs Admin Spend') \n",
    "plt.legend()\n",
    "plt.show()\n"
   ]
  },
  {
   "cell_type": "code",
   "execution_count": null,
   "id": "bff1b122",
   "metadata": {},
   "outputs": [],
   "source": [
    "\"\"\"\n",
    "Marketing\n",
    "\"\"\"\n",
    "\n",
    "\n",
    "mrktng = dataset.iloc[:, 2] \n",
    "\n",
    "x = mrktng.values\n",
    "x\n"
   ]
  },
  {
   "cell_type": "code",
   "execution_count": null,
   "id": "66cdde54",
   "metadata": {},
   "outputs": [],
   "source": [
    "\"\"\"\n",
    "Marketing ~ Profit - Visualziaton\n",
    "\"\"\"\n",
    "\n",
    "plt.scatter(x,y,label='',color='k') \n",
    "plt.xlabel('Marketing') \n",
    "plt.ylabel('Profit')\n",
    "plt.title('Profit vs Marketing Spend') \n",
    "plt.legend()\n",
    "plt.show()\n"
   ]
  },
  {
   "cell_type": "code",
   "execution_count": null,
   "id": "da95b516",
   "metadata": {},
   "outputs": [],
   "source": [
    "\"\"\"\n",
    "State\n",
    "\"\"\"\n",
    "x = dataset.iloc[:, 3].values\n",
    "x"
   ]
  },
  {
   "cell_type": "code",
   "execution_count": null,
   "id": "616e24df",
   "metadata": {},
   "outputs": [],
   "source": [
    "\"\"\"\n",
    "State\n",
    "\"\"\"\n",
    "\n",
    "plt.scatter(x,y,label='',color='k') \n",
    "plt.xlabel('State') \n",
    "plt.ylabel('Profit') \n",
    "plt.title('Profit vs State') \n",
    "plt.legend()\n",
    "plt.show()\n"
   ]
  },
  {
   "cell_type": "code",
   "execution_count": null,
   "id": "8b310c57",
   "metadata": {},
   "outputs": [],
   "source": [
    "df = dataset.iloc[:, 3:5] \n",
    "df.boxplot(column='Profit',by='State')\n"
   ]
  },
  {
   "cell_type": "markdown",
   "id": "d3469cdd",
   "metadata": {},
   "source": [
    "### X independent Variables"
   ]
  },
  {
   "cell_type": "code",
   "execution_count": null,
   "id": "e2a62da2",
   "metadata": {},
   "outputs": [],
   "source": [
    "#standard notations we x and y\n",
    "\n",
    "\"\"\"\n",
    "X here is all independent variables\n",
    "\"\"\"\n",
    "\n",
    "X = dataset.iloc[:, :-1].values \n",
    "X\n",
    "#X\n",
    "\n",
    "#X1 = dataset.iloc[:, :-1]\n",
    "#X1\n"
   ]
  },
  {
   "cell_type": "markdown",
   "id": "f49bd5a6",
   "metadata": {},
   "source": [
    "### Y Dependent Variable"
   ]
  },
  {
   "cell_type": "code",
   "execution_count": null,
   "id": "d6d774a4",
   "metadata": {},
   "outputs": [],
   "source": [
    "\"\"\"\n",
    "y here is dependent variable\n",
    "\"\"\"\n",
    "\n",
    "y = dataset.iloc[:, 4].values \n",
    "y\n",
    "\n",
    "#y1 =y = dataset.iloc[:, 4]\n",
    "#y1"
   ]
  },
  {
   "cell_type": "markdown",
   "id": "0480a4e4",
   "metadata": {},
   "source": [
    "### Encoding Catergorical Variable"
   ]
  },
  {
   "cell_type": "code",
   "execution_count": null,
   "id": "bd5ca991",
   "metadata": {},
   "outputs": [],
   "source": [
    "from sklearn.preprocessing import LabelEncoder, OneHotEncoder \n",
    "\n",
    "labelencoder = LabelEncoder()\n",
    "\n",
    "\n",
    "\n",
    "\n",
    "X[:,3]\n",
    "\n",
    "X[:, 3] = labelencoder.fit_transform(X[:, 3])\n",
    "\n",
    "X"
   ]
  },
  {
   "cell_type": "code",
   "execution_count": null,
   "id": "86294bd5",
   "metadata": {},
   "outputs": [],
   "source": [
    "from sklearn.compose import ColumnTransformer\n",
    "\n",
    "columnTransformer = ColumnTransformer([('encoder', OneHotEncoder(), [3])],remainder='passthrough')\n",
    "\n",
    "\n",
    "#onehotencoder = OneHotEncoder(categorical_features = [3])\n",
    "\n",
    "X = columnTransformer.fit_transform(X)\n",
    "\n",
    "X\n"
   ]
  },
  {
   "cell_type": "code",
   "execution_count": null,
   "id": "86952543",
   "metadata": {},
   "outputs": [],
   "source": [
    "XC = X"
   ]
  },
  {
   "cell_type": "code",
   "execution_count": null,
   "id": "d043ce39",
   "metadata": {},
   "outputs": [],
   "source": [
    "# Concerting label encoder to one hot encoder\n",
    "check2=pd.DataFrame(X)\n",
    "check2\n"
   ]
  },
  {
   "cell_type": "code",
   "execution_count": null,
   "id": "590da321",
   "metadata": {},
   "outputs": [],
   "source": [
    "# Avoiding the Dummy Variable Trap \n",
    "\n",
    "X = X[:, 1:]\n",
    "\n",
    "X\n",
    "\n",
    "XC1 = X"
   ]
  },
  {
   "cell_type": "code",
   "execution_count": null,
   "id": "4527939c",
   "metadata": {},
   "outputs": [],
   "source": [
    "check3=pd.DataFrame(X)\n",
    "check3"
   ]
  },
  {
   "cell_type": "markdown",
   "id": "0d64acfd",
   "metadata": {},
   "source": [
    "### Data Partioning\n",
    "\n",
    "### Step1 - 50 Startups Data Splitting \n",
    "\n",
    "\n",
    "Datasize - 50 rows \n",
    "\n",
    "X_train - 35   - regressor\n",
    "X_test -  15\n"
   ]
  },
  {
   "cell_type": "code",
   "execution_count": null,
   "id": "b38af92f",
   "metadata": {},
   "outputs": [],
   "source": [
    "from sklearn.model_selection  import train_test_split\n",
    "X_train, X_test, y_train, y_test = train_test_split(X, y, test_size = 0.3, random_state = 0)\n"
   ]
  },
  {
   "cell_type": "code",
   "execution_count": null,
   "id": "c24feb1b",
   "metadata": {},
   "outputs": [],
   "source": [
    "print(X_train.shape)\n",
    "print(X_test.shape)\n",
    "print(y_train.shape)\n",
    "print(y_test.shape)"
   ]
  },
  {
   "cell_type": "markdown",
   "id": "de6a281a",
   "metadata": {},
   "source": [
    "### Machine Learning\n",
    "### Step 1 - Import package and activate Library\n"
   ]
  },
  {
   "cell_type": "code",
   "execution_count": null,
   "id": "ec23e021",
   "metadata": {},
   "outputs": [],
   "source": [
    "\n",
    "\"\"\"\n",
    "creating an object of linear regression as regressor\n",
    "https://scikit-learn.org -sklearn.linear_model.LinearRegression\n",
    "\"\"\"\n",
    "\n",
    "from sklearn.linear_model import LinearRegression\n",
    "regressor = LinearRegression()\n",
    "\n"
   ]
  },
  {
   "cell_type": "markdown",
   "id": "b7c49319",
   "metadata": {},
   "source": [
    "### Step 2 - Fit the model\n"
   ]
  },
  {
   "cell_type": "code",
   "execution_count": null,
   "id": "d67bc85d",
   "metadata": {},
   "outputs": [],
   "source": [
    "\"\"\"\n",
    "fitting Linear Regression to the Training set\n",
    "\"\"\"\n",
    "\n",
    "#step3\n",
    "\n",
    "regressor.fit(X_train, y_train)\n",
    "\n",
    "print(y_test.shape)"
   ]
  },
  {
   "cell_type": "code",
   "execution_count": null,
   "id": "bf334bd1",
   "metadata": {},
   "outputs": [],
   "source": [
    "\"\"\"\n",
    "Predicting the Test set results \n",
    "\"\"\"\n",
    "\n",
    "#step4\n",
    "\n",
    "y_pred = regressor.predict(X_test) \n",
    "\n",
    "y_pred\n",
    "\n",
    "print(y_pred.shape)"
   ]
  },
  {
   "cell_type": "code",
   "execution_count": null,
   "id": "941079d5",
   "metadata": {},
   "outputs": [],
   "source": []
  },
  {
   "cell_type": "code",
   "execution_count": null,
   "id": "1559a525",
   "metadata": {},
   "outputs": [],
   "source": [
    "print(\"Intercept value is   :\",regressor.intercept_)\n",
    "\n",
    "print(\"coefficient value is :\",regressor.coef_)\n",
    "\n",
    "print(\"R Square value is    :\",regressor.score(X, y))\n",
    "\n",
    "R2 = regressor.score(X, y)"
   ]
  },
  {
   "cell_type": "code",
   "execution_count": null,
   "id": "d3a98e34",
   "metadata": {},
   "outputs": [],
   "source": [
    "n=35\n",
    "\n",
    "p=4\n",
    "\n",
    "Adj_r2 = 1-(1-R2)*(n-1)/(n-p-1)\n",
    "\n",
    "print('Adjusted Rsquare Values is:',Adj_r2)"
   ]
  },
  {
   "cell_type": "code",
   "execution_count": null,
   "id": "203d58bb",
   "metadata": {},
   "outputs": [],
   "source": [
    "from sklearn.metrics import mean_squared_error\n",
    "mean_squared_error(y_test, y_pred)"
   ]
  },
  {
   "cell_type": "markdown",
   "id": "bb0bae2b",
   "metadata": {},
   "source": [
    "### Stats Model Package"
   ]
  },
  {
   "cell_type": "code",
   "execution_count": null,
   "id": "8f781bf9",
   "metadata": {},
   "outputs": [],
   "source": [
    "import numpy as np"
   ]
  },
  {
   "cell_type": "code",
   "execution_count": null,
   "id": "c9d8e0c7",
   "metadata": {},
   "outputs": [],
   "source": [
    "import statsmodels.api as sm"
   ]
  },
  {
   "cell_type": "code",
   "execution_count": null,
   "id": "e7fe1296",
   "metadata": {},
   "outputs": [],
   "source": [
    "X = sm.add_constant(X)\n",
    "X"
   ]
  },
  {
   "cell_type": "code",
   "execution_count": null,
   "id": "3409eda1",
   "metadata": {},
   "outputs": [],
   "source": [
    "X"
   ]
  },
  {
   "cell_type": "code",
   "execution_count": null,
   "id": "bc1f19e2",
   "metadata": {},
   "outputs": [],
   "source": [
    "X.astype('float64')\n",
    "y.astype('float64')\n",
    "print(X.dtype)\n",
    "print(y.dtype)"
   ]
  },
  {
   "cell_type": "code",
   "execution_count": null,
   "id": "c452b458",
   "metadata": {},
   "outputs": [],
   "source": [
    "X_opt = X[:,[0,1,2,3,4,5]]\n",
    "X_opt\n",
    "X_opt = np.array(X_opt, dtype=float)\n"
   ]
  },
  {
   "cell_type": "code",
   "execution_count": null,
   "id": "69f12140",
   "metadata": {},
   "outputs": [],
   "source": [
    "ols = sm.OLS(endog=y, exog=X_opt,axis=1).fit()\n",
    "print(ols.summary())"
   ]
  },
  {
   "cell_type": "code",
   "execution_count": null,
   "id": "15433d81",
   "metadata": {},
   "outputs": [],
   "source": [
    "X_opt = X[:,[0,1,2]]\n",
    "X_opt\n",
    "X_opt = np.array(X_opt, dtype=float)\n"
   ]
  },
  {
   "cell_type": "code",
   "execution_count": null,
   "id": "fcc54ec2",
   "metadata": {},
   "outputs": [],
   "source": [
    "ols = sm.OLS(endog=y, exog=X_opt,axis=1).fit()\n",
    "print(ols.summary())"
   ]
  },
  {
   "cell_type": "code",
   "execution_count": null,
   "id": "873fa4f0",
   "metadata": {},
   "outputs": [],
   "source": []
  }
 ],
 "metadata": {
  "kernelspec": {
   "display_name": "Python 3 (ipykernel)",
   "language": "python",
   "name": "python3"
  },
  "language_info": {
   "codemirror_mode": {
    "name": "ipython",
    "version": 3
   },
   "file_extension": ".py",
   "mimetype": "text/x-python",
   "name": "python",
   "nbconvert_exporter": "python",
   "pygments_lexer": "ipython3",
   "version": "3.9.7"
  }
 },
 "nbformat": 4,
 "nbformat_minor": 5
}
