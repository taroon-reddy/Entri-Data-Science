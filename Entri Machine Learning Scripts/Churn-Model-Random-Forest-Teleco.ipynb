{
 "cells": [
  {
   "cell_type": "markdown",
   "metadata": {
    "_uuid": "debfd2327cca8448fa445b8b8714b7855aa65fdc"
   },
   "source": [
    "# Churn model using Random Forest. \n",
    "#@taroonreddy.com"
   ]
  },
  {
   "cell_type": "code",
   "execution_count": 68,
   "metadata": {
    "_cell_guid": "b1076dfc-b9ad-4769-8c92-a6c4dae69d19",
    "_uuid": "8f2839f25d086af736a60e9eeb907d3b93b6e0e5"
   },
   "outputs": [],
   "source": [
    "#taroonreddy.com\n",
    "import numpy as np # linear algebra\n",
    "import pandas as pd # data processing, CSV file I/O (e.g. pd.read_csv)\n",
    "import matplotlib.pyplot as plt\n",
    "import seaborn as sns\n",
    "from sklearn.preprocessing import LabelEncoder\n",
    "from sklearn.model_selection import train_test_split\n",
    "from sklearn.preprocessing import StandardScaler\n",
    "from sklearn.ensemble import RandomForestClassifier\n",
    "from sklearn.metrics import confusion_matrix , classification_report\n",
    "from sklearn.metrics import roc_curve , auc\n",
    "\n",
    "\n",
    "# Input data files are available in the \"../input/\" directory.\n",
    "# For example, running this (by clicking run or pressing Shift+Enter) will list the files in the input directory\n",
    "\n",
    "#import os\n",
    "#print(os.listdir(\"../input\"))\n",
    "\n",
    "# Any results you write to the current directory are saved as output."
   ]
  },
  {
   "cell_type": "code",
   "execution_count": 69,
   "metadata": {
    "_cell_guid": "79c7e3d0-c299-4dcb-8224-4455121ee9b0",
    "_uuid": "d629ff2d2480ee46fbb7e2d37f6b5fab8052498a"
   },
   "outputs": [],
   "source": [
    "# Load Data\n",
    "df = pd.read_csv('E:/Data Science _TR/Datasets/Telco-Customer-Churn.csv')"
   ]
  },
  {
   "cell_type": "code",
   "execution_count": 70,
   "metadata": {
    "_uuid": "8c15f9b79f17d975f5c79823d175e0874f9bd139"
   },
   "outputs": [
    {
     "data": {
      "text/html": [
       "<div>\n",
       "<style scoped>\n",
       "    .dataframe tbody tr th:only-of-type {\n",
       "        vertical-align: middle;\n",
       "    }\n",
       "\n",
       "    .dataframe tbody tr th {\n",
       "        vertical-align: top;\n",
       "    }\n",
       "\n",
       "    .dataframe thead th {\n",
       "        text-align: right;\n",
       "    }\n",
       "</style>\n",
       "<table border=\"1\" class=\"dataframe\">\n",
       "  <thead>\n",
       "    <tr style=\"text-align: right;\">\n",
       "      <th></th>\n",
       "      <th>customerID</th>\n",
       "      <th>gender</th>\n",
       "      <th>SeniorCitizen</th>\n",
       "      <th>Partner</th>\n",
       "      <th>Dependents</th>\n",
       "      <th>tenure</th>\n",
       "      <th>PhoneService</th>\n",
       "      <th>MultipleLines</th>\n",
       "      <th>InternetService</th>\n",
       "      <th>OnlineSecurity</th>\n",
       "      <th>...</th>\n",
       "      <th>DeviceProtection</th>\n",
       "      <th>TechSupport</th>\n",
       "      <th>StreamingTV</th>\n",
       "      <th>StreamingMovies</th>\n",
       "      <th>Contract</th>\n",
       "      <th>PaperlessBilling</th>\n",
       "      <th>PaymentMethod</th>\n",
       "      <th>MonthlyCharges</th>\n",
       "      <th>TotalCharges</th>\n",
       "      <th>Churn</th>\n",
       "    </tr>\n",
       "  </thead>\n",
       "  <tbody>\n",
       "    <tr>\n",
       "      <th>0</th>\n",
       "      <td>7590-VHVEG</td>\n",
       "      <td>Female</td>\n",
       "      <td>0</td>\n",
       "      <td>Yes</td>\n",
       "      <td>No</td>\n",
       "      <td>1</td>\n",
       "      <td>No</td>\n",
       "      <td>No phone service</td>\n",
       "      <td>DSL</td>\n",
       "      <td>No</td>\n",
       "      <td>...</td>\n",
       "      <td>No</td>\n",
       "      <td>No</td>\n",
       "      <td>No</td>\n",
       "      <td>No</td>\n",
       "      <td>Month-to-month</td>\n",
       "      <td>Yes</td>\n",
       "      <td>Electronic check</td>\n",
       "      <td>29.85</td>\n",
       "      <td>29.85</td>\n",
       "      <td>No</td>\n",
       "    </tr>\n",
       "    <tr>\n",
       "      <th>1</th>\n",
       "      <td>5575-GNVDE</td>\n",
       "      <td>Male</td>\n",
       "      <td>0</td>\n",
       "      <td>No</td>\n",
       "      <td>No</td>\n",
       "      <td>34</td>\n",
       "      <td>Yes</td>\n",
       "      <td>No</td>\n",
       "      <td>DSL</td>\n",
       "      <td>Yes</td>\n",
       "      <td>...</td>\n",
       "      <td>Yes</td>\n",
       "      <td>No</td>\n",
       "      <td>No</td>\n",
       "      <td>No</td>\n",
       "      <td>One year</td>\n",
       "      <td>No</td>\n",
       "      <td>Mailed check</td>\n",
       "      <td>56.95</td>\n",
       "      <td>1889.5</td>\n",
       "      <td>No</td>\n",
       "    </tr>\n",
       "    <tr>\n",
       "      <th>2</th>\n",
       "      <td>3668-QPYBK</td>\n",
       "      <td>Male</td>\n",
       "      <td>0</td>\n",
       "      <td>No</td>\n",
       "      <td>No</td>\n",
       "      <td>2</td>\n",
       "      <td>Yes</td>\n",
       "      <td>No</td>\n",
       "      <td>DSL</td>\n",
       "      <td>Yes</td>\n",
       "      <td>...</td>\n",
       "      <td>No</td>\n",
       "      <td>No</td>\n",
       "      <td>No</td>\n",
       "      <td>No</td>\n",
       "      <td>Month-to-month</td>\n",
       "      <td>Yes</td>\n",
       "      <td>Mailed check</td>\n",
       "      <td>53.85</td>\n",
       "      <td>108.15</td>\n",
       "      <td>Yes</td>\n",
       "    </tr>\n",
       "    <tr>\n",
       "      <th>3</th>\n",
       "      <td>7795-CFOCW</td>\n",
       "      <td>Male</td>\n",
       "      <td>0</td>\n",
       "      <td>No</td>\n",
       "      <td>No</td>\n",
       "      <td>45</td>\n",
       "      <td>No</td>\n",
       "      <td>No phone service</td>\n",
       "      <td>DSL</td>\n",
       "      <td>Yes</td>\n",
       "      <td>...</td>\n",
       "      <td>Yes</td>\n",
       "      <td>Yes</td>\n",
       "      <td>No</td>\n",
       "      <td>No</td>\n",
       "      <td>One year</td>\n",
       "      <td>No</td>\n",
       "      <td>Bank transfer (automatic)</td>\n",
       "      <td>42.30</td>\n",
       "      <td>1840.75</td>\n",
       "      <td>No</td>\n",
       "    </tr>\n",
       "    <tr>\n",
       "      <th>4</th>\n",
       "      <td>9237-HQITU</td>\n",
       "      <td>Female</td>\n",
       "      <td>0</td>\n",
       "      <td>No</td>\n",
       "      <td>No</td>\n",
       "      <td>2</td>\n",
       "      <td>Yes</td>\n",
       "      <td>No</td>\n",
       "      <td>Fiber optic</td>\n",
       "      <td>No</td>\n",
       "      <td>...</td>\n",
       "      <td>No</td>\n",
       "      <td>No</td>\n",
       "      <td>No</td>\n",
       "      <td>No</td>\n",
       "      <td>Month-to-month</td>\n",
       "      <td>Yes</td>\n",
       "      <td>Electronic check</td>\n",
       "      <td>70.70</td>\n",
       "      <td>151.65</td>\n",
       "      <td>Yes</td>\n",
       "    </tr>\n",
       "  </tbody>\n",
       "</table>\n",
       "<p>5 rows × 21 columns</p>\n",
       "</div>"
      ],
      "text/plain": [
       "   customerID  gender  SeniorCitizen Partner Dependents  tenure PhoneService  \\\n",
       "0  7590-VHVEG  Female              0     Yes         No       1           No   \n",
       "1  5575-GNVDE    Male              0      No         No      34          Yes   \n",
       "2  3668-QPYBK    Male              0      No         No       2          Yes   \n",
       "3  7795-CFOCW    Male              0      No         No      45           No   \n",
       "4  9237-HQITU  Female              0      No         No       2          Yes   \n",
       "\n",
       "      MultipleLines InternetService OnlineSecurity  ... DeviceProtection  \\\n",
       "0  No phone service             DSL             No  ...               No   \n",
       "1                No             DSL            Yes  ...              Yes   \n",
       "2                No             DSL            Yes  ...               No   \n",
       "3  No phone service             DSL            Yes  ...              Yes   \n",
       "4                No     Fiber optic             No  ...               No   \n",
       "\n",
       "  TechSupport StreamingTV StreamingMovies        Contract PaperlessBilling  \\\n",
       "0          No          No              No  Month-to-month              Yes   \n",
       "1          No          No              No        One year               No   \n",
       "2          No          No              No  Month-to-month              Yes   \n",
       "3         Yes          No              No        One year               No   \n",
       "4          No          No              No  Month-to-month              Yes   \n",
       "\n",
       "               PaymentMethod MonthlyCharges  TotalCharges Churn  \n",
       "0           Electronic check          29.85         29.85    No  \n",
       "1               Mailed check          56.95        1889.5    No  \n",
       "2               Mailed check          53.85        108.15   Yes  \n",
       "3  Bank transfer (automatic)          42.30       1840.75    No  \n",
       "4           Electronic check          70.70        151.65   Yes  \n",
       "\n",
       "[5 rows x 21 columns]"
      ]
     },
     "execution_count": 70,
     "metadata": {},
     "output_type": "execute_result"
    }
   ],
   "source": [
    "df.head()"
   ]
  },
  {
   "cell_type": "code",
   "execution_count": 71,
   "metadata": {
    "_uuid": "ef5ab12f3f91d915bff8a2a04b196f246f912f0d"
   },
   "outputs": [
    {
     "name": "stdout",
     "output_type": "stream",
     "text": [
      "<class 'pandas.core.frame.DataFrame'>\n",
      "RangeIndex: 7043 entries, 0 to 7042\n",
      "Data columns (total 21 columns):\n",
      " #   Column            Non-Null Count  Dtype  \n",
      "---  ------            --------------  -----  \n",
      " 0   customerID        7043 non-null   object \n",
      " 1   gender            7043 non-null   object \n",
      " 2   SeniorCitizen     7043 non-null   int64  \n",
      " 3   Partner           7043 non-null   object \n",
      " 4   Dependents        7043 non-null   object \n",
      " 5   tenure            7043 non-null   int64  \n",
      " 6   PhoneService      7043 non-null   object \n",
      " 7   MultipleLines     7043 non-null   object \n",
      " 8   InternetService   7043 non-null   object \n",
      " 9   OnlineSecurity    7043 non-null   object \n",
      " 10  OnlineBackup      7043 non-null   object \n",
      " 11  DeviceProtection  7043 non-null   object \n",
      " 12  TechSupport       7043 non-null   object \n",
      " 13  StreamingTV       7043 non-null   object \n",
      " 14  StreamingMovies   7043 non-null   object \n",
      " 15  Contract          7043 non-null   object \n",
      " 16  PaperlessBilling  7043 non-null   object \n",
      " 17  PaymentMethod     7043 non-null   object \n",
      " 18  MonthlyCharges    7043 non-null   float64\n",
      " 19  TotalCharges      7043 non-null   object \n",
      " 20  Churn             7043 non-null   object \n",
      "dtypes: float64(1), int64(2), object(18)\n",
      "memory usage: 1.1+ MB\n"
     ]
    }
   ],
   "source": [
    "df.info()"
   ]
  },
  {
   "cell_type": "markdown",
   "metadata": {
    "_uuid": "86c9498f01352da67fb68684d9e3c68338594e87"
   },
   "source": [
    "We observe SeniorCitizen Should be categorical variables, but comes as int64. Will convert it back to categorical"
   ]
  },
  {
   "cell_type": "code",
   "execution_count": 72,
   "metadata": {
    "_uuid": "d72c4983cc4dd5e6b0b13a55a059f2837cd3a4fe"
   },
   "outputs": [
    {
     "data": {
      "text/plain": [
       "array([0, 1], dtype=int64)"
      ]
     },
     "execution_count": 72,
     "metadata": {},
     "output_type": "execute_result"
    }
   ],
   "source": [
    "df.SeniorCitizen.unique()"
   ]
  },
  {
   "cell_type": "code",
   "execution_count": 73,
   "metadata": {
    "_uuid": "fade30e82d92af0132bb240787e74e9b8cf0a237"
   },
   "outputs": [],
   "source": [
    "#Convert to Categorical variable\n",
    "df.SeniorCitizen= df.SeniorCitizen.apply(lambda x : 'No' if x == 0 else 'Yes')\n"
   ]
  },
  {
   "cell_type": "code",
   "execution_count": 74,
   "metadata": {
    "_uuid": "6a93ea9fc93dc6d5edbd552306138d377f81f685"
   },
   "outputs": [
    {
     "data": {
      "text/plain": [
       "array(['No', 'Yes'], dtype=object)"
      ]
     },
     "execution_count": 74,
     "metadata": {},
     "output_type": "execute_result"
    }
   ],
   "source": [
    "#Check Type after conversion\n",
    "df.SeniorCitizen.unique()"
   ]
  },
  {
   "cell_type": "markdown",
   "metadata": {
    "_uuid": "967dbd9dfe1a658bc158b3bc323a01e5a9c29cf3"
   },
   "source": [
    "Another Observation that TotalCharges is continues variables and comes as object. Will convert to numeric format"
   ]
  },
  {
   "cell_type": "code",
   "execution_count": 75,
   "metadata": {
    "_uuid": "93711c68e4def568fb16fd51959afb4e5f166fcc"
   },
   "outputs": [],
   "source": [
    "df['TotalCharges_new']= pd.to_numeric(df.TotalCharges,errors='coerce')"
   ]
  },
  {
   "cell_type": "code",
   "execution_count": 76,
   "metadata": {
    "_uuid": "3b417b48c2deb7b578d6bbef5d27d012f7180827"
   },
   "outputs": [
    {
     "data": {
      "text/plain": [
       "488      \n",
       "753      \n",
       "936      \n",
       "1082     \n",
       "1340     \n",
       "3331     \n",
       "3826     \n",
       "4380     \n",
       "5218     \n",
       "6670     \n",
       "6754     \n",
       "Name: TotalCharges, dtype: object"
      ]
     },
     "execution_count": 76,
     "metadata": {},
     "output_type": "execute_result"
    }
   ],
   "source": [
    "#Check NULL values after the conversion\n",
    "df.loc[pd.isna(df.TotalCharges_new),'TotalCharges']"
   ]
  },
  {
   "cell_type": "code",
   "execution_count": 77,
   "metadata": {
    "_uuid": "c5e8bdbafe345129e6c019baabed0e7fff910c67"
   },
   "outputs": [],
   "source": [
    "#Fill 11 Missing values from the original column\n",
    "TotalCharges_Missing=[488,753,936,1082,1340,3331,3826,4380,5218,6670,6754]\n",
    "df.loc[pd.isnull(df.TotalCharges_new),'TotalCharges_new']=TotalCharges_Missing\n"
   ]
  },
  {
   "cell_type": "code",
   "execution_count": 78,
   "metadata": {
    "_uuid": "ea492dfefd685b2faa9141069d995f194dc49e53"
   },
   "outputs": [
    {
     "name": "stdout",
     "output_type": "stream",
     "text": [
      "<class 'pandas.core.frame.DataFrame'>\n",
      "RangeIndex: 7043 entries, 0 to 7042\n",
      "Data columns (total 20 columns):\n",
      " #   Column            Non-Null Count  Dtype  \n",
      "---  ------            --------------  -----  \n",
      " 0   gender            7043 non-null   object \n",
      " 1   SeniorCitizen     7043 non-null   object \n",
      " 2   Partner           7043 non-null   object \n",
      " 3   Dependents        7043 non-null   object \n",
      " 4   tenure            7043 non-null   int64  \n",
      " 5   PhoneService      7043 non-null   object \n",
      " 6   MultipleLines     7043 non-null   object \n",
      " 7   InternetService   7043 non-null   object \n",
      " 8   OnlineSecurity    7043 non-null   object \n",
      " 9   OnlineBackup      7043 non-null   object \n",
      " 10  DeviceProtection  7043 non-null   object \n",
      " 11  TechSupport       7043 non-null   object \n",
      " 12  StreamingTV       7043 non-null   object \n",
      " 13  StreamingMovies   7043 non-null   object \n",
      " 14  Contract          7043 non-null   object \n",
      " 15  PaperlessBilling  7043 non-null   object \n",
      " 16  PaymentMethod     7043 non-null   object \n",
      " 17  MonthlyCharges    7043 non-null   float64\n",
      " 18  TotalCharges      7043 non-null   float64\n",
      " 19  Churn             7043 non-null   object \n",
      "dtypes: float64(2), int64(1), object(17)\n",
      "memory usage: 1.1+ MB\n"
     ]
    }
   ],
   "source": [
    "#We are good to replace old columns with the new numerical column\n",
    "df.TotalCharges=df.TotalCharges_new\n",
    "df.drop(['customerID','TotalCharges_new'],axis=1,inplace=True)\n",
    "df.info()"
   ]
  },
  {
   "cell_type": "markdown",
   "metadata": {
    "_uuid": "e601a2f57ff07d75633852ec5f21b0c0568ee7e8"
   },
   "source": [
    "Now will check all categorical variables levels"
   ]
  },
  {
   "cell_type": "code",
   "execution_count": 16,
   "metadata": {
    "_uuid": "d5b98a7befbde8ac5134be639b55f4281776ab8f"
   },
   "outputs": [
    {
     "name": "stdout",
     "output_type": "stream",
     "text": [
      "gender : ['Female' 'Male']\n",
      "SeniorCitizen : ['No' 'Yes']\n",
      "Partner : ['Yes' 'No']\n",
      "Dependents : ['No' 'Yes']\n",
      "PhoneService : ['No' 'Yes']\n",
      "MultipleLines : ['No phone service' 'No' 'Yes']\n",
      "InternetService : ['DSL' 'Fiber optic' 'No']\n",
      "OnlineSecurity : ['No' 'Yes' 'No internet service']\n",
      "OnlineBackup : ['Yes' 'No' 'No internet service']\n",
      "DeviceProtection : ['No' 'Yes' 'No internet service']\n",
      "TechSupport : ['No' 'Yes' 'No internet service']\n",
      "StreamingTV : ['No' 'Yes' 'No internet service']\n",
      "StreamingMovies : ['No' 'Yes' 'No internet service']\n",
      "Contract : ['Month-to-month' 'One year' 'Two year']\n",
      "PaperlessBilling : ['Yes' 'No']\n",
      "PaymentMethod : ['Electronic check' 'Mailed check' 'Bank transfer (automatic)'\n",
      " 'Credit card (automatic)']\n",
      "Churn : ['No' 'Yes']\n"
     ]
    }
   ],
   "source": [
    "df.dtypes=='object'\n",
    "categorical_var=[i for i in df.columns if df[i].dtypes=='object']\n",
    "for z in categorical_var:\n",
    "    print(df[z].name,':',df[z].unique())"
   ]
  },
  {
   "cell_type": "markdown",
   "metadata": {
    "_uuid": "493fe062d1f1e5c39a97a31c952b47e676cada5e"
   },
   "source": [
    "There are some variables has value 'No Internet Service' that equivalent to 'No'. Will merge both values"
   ]
  },
  {
   "cell_type": "code",
   "execution_count": 79,
   "metadata": {
    "_uuid": "2f8f818d8383015cae7f3e33dd8e8a5c41da8f5d"
   },
   "outputs": [],
   "source": [
    "Dual_features= ['OnlineSecurity','OnlineBackup','DeviceProtection','TechSupport','StreamingTV','StreamingMovies']\n",
    "for i in Dual_features:\n",
    "    df[i]=df[i].apply(lambda x: 'No' if x=='No internet service' else x)\n",
    "#Remove No Phones Service that equivilent to No for MultipleLines\n",
    "df.MultipleLines=df.MultipleLines.apply(lambda x: 'No' if x=='No phone service' else x)\n"
   ]
  },
  {
   "cell_type": "code",
   "execution_count": 80,
   "metadata": {
    "_uuid": "2a5335de764ec91e633424bb77454dad1b619c81"
   },
   "outputs": [
    {
     "name": "stdout",
     "output_type": "stream",
     "text": [
      "gender : ['Female' 'Male']\n",
      "SeniorCitizen : ['No' 'Yes']\n",
      "Partner : ['Yes' 'No']\n",
      "Dependents : ['No' 'Yes']\n",
      "PhoneService : ['No' 'Yes']\n",
      "MultipleLines : ['No' 'Yes']\n",
      "InternetService : ['DSL' 'Fiber optic' 'No']\n",
      "OnlineSecurity : ['No' 'Yes']\n",
      "OnlineBackup : ['Yes' 'No']\n",
      "DeviceProtection : ['No' 'Yes']\n",
      "TechSupport : ['No' 'Yes']\n",
      "StreamingTV : ['No' 'Yes']\n",
      "StreamingMovies : ['No' 'Yes']\n",
      "Contract : ['Month-to-month' 'One year' 'Two year']\n",
      "PaperlessBilling : ['Yes' 'No']\n",
      "PaymentMethod : ['Electronic check' 'Mailed check' 'Bank transfer (automatic)'\n",
      " 'Credit card (automatic)']\n",
      "Churn : ['No' 'Yes']\n"
     ]
    }
   ],
   "source": [
    "#Check levels or all Categorical Variables\n",
    "for z in [i for i in df.columns if df[i].dtypes=='object']:\n",
    "    print(df[z].name,':',df[z].unique())"
   ]
  },
  {
   "cell_type": "markdown",
   "metadata": {
    "_uuid": "4f0f515eb0b77f5bad3db6026944b3937e71ab1f"
   },
   "source": [
    "# Data Analysis and Visualizations\n",
    "\n",
    "First will analyze continues variables against Churn variable"
   ]
  },
  {
   "cell_type": "code",
   "execution_count": 81,
   "metadata": {
    "_uuid": "a71061aab54852a93fc6a9168bcade8267ca6d89"
   },
   "outputs": [
    {
     "data": {
      "image/png": "[encoded data removed]",
      "text/plain": [
       "<Figure size 1080x360 with 3 Axes>"
      ]
     },
     "metadata": {
      "needs_background": "light"
     },
     "output_type": "display_data"
    }
   ],
   "source": [
    "continues_var=[i for i in df.columns if df[i].dtypes !='object']\n",
    "fig , ax = plt.subplots(1,3,figsize=(15,5))\n",
    "for i , x in enumerate(continues_var):\n",
    "    ax[i].hist(df[x][df.Churn=='No'],label='Churn=0',bins=30)\n",
    "    ax[i].hist(df[x][df.Churn=='Yes'],label='Churn=1',bins=30)\n",
    "    ax[i].set(xlabel=x,ylabel='count')\n",
    "    ax[i].legend()"
   ]
  },
  {
   "cell_type": "markdown",
   "metadata": {
    "_uuid": "a0285e22c4ed8ec950ab823d1c440af808186809"
   },
   "source": [
    "We can see a real impact of all continues variables on Churn specially Tenue(Loyal Customers Stay)\n",
    "\n",
    "Will Check now Box Plot for more explorations"
   ]
  },
  {
   "cell_type": "code",
   "execution_count": 82,
   "metadata": {
    "_uuid": "13db6010f66c8fd8938835dc37558b06b776dd2f"
   },
   "outputs": [
    {
     "data": {
      "image/png": "[encoded data removed]",
      "text/plain": [
       "<Figure size 1080x360 with 3 Axes>"
      ]
     },
     "metadata": {
      "needs_background": "light"
     },
     "output_type": "display_data"
    }
   ],
   "source": [
    "fig , ax = plt.subplots(1,3,figsize=(15,5))\n",
    "for i , xi in enumerate(continues_var):\n",
    "    sns.boxplot(x=df.Churn,y=df[xi],ax=ax[i],hue=df.gender)\n",
    "    ax[i].set(xlabel='Churn',ylabel=xi)\n",
    "    ax[i].legend()\n"
   ]
  },
  {
   "cell_type": "markdown",
   "metadata": {
    "_uuid": "188f2146aae1e540b54791e0ac17c5fac10c43d9"
   },
   "source": [
    "Now it is more clear the impact of Continues Variables on Churn , We can see minimal impact of Gender\n",
    "\n",
    "Now will convert to check regarding Categorical Variables"
   ]
  },
  {
   "cell_type": "code",
   "execution_count": 83,
   "metadata": {
    "_uuid": "95a383d56e46daa5f3ea934c295bfcc4bf32f65e"
   },
   "outputs": [],
   "source": [
    "#Remove Churn Variable for Analysis\n",
    "categorical_var_NoChurn= categorical_var[:-1]"
   ]
  },
  {
   "cell_type": "code",
   "execution_count": 84,
   "metadata": {
    "_uuid": "469f92232788b56441c337faf1ac536fbffd9fde"
   },
   "outputs": [
    {
     "data": {
      "image/png": "[encoded data removed]",
      "text/plain": [
       "<Figure size 1440x1440 with 16 Axes>"
      ]
     },
     "metadata": {
      "needs_background": "light"
     },
     "output_type": "display_data"
    }
   ],
   "source": [
    "#Count Plot all Categorical Variables with Hue Churn\n",
    "fig , ax = plt.subplots(4,4,figsize=(20,20))\n",
    "for axi , var in zip(ax.flat,categorical_var_NoChurn):\n",
    "    sns.countplot(x=df.Churn,hue=df[var],ax=axi)"
   ]
  },
  {
   "cell_type": "markdown",
   "metadata": {
    "_uuid": "d47c169086e609951fd665c6c5ba054675e0823b"
   },
   "source": [
    "- We cannot see a real Impact of gender\n",
    "- Seniors are less loyalty\n",
    "- Partners are more loyal\n",
    "- Dependents are more loyal\n",
    "- Customers does not have multiplelines are more loyal\n",
    "- Customer are not happy with Optical Fiber and Leaving with rate of other internet services\n",
    "- Customers with month-to-month contract are more willing to leave than people with contracts\n",
    "- Paperless customers are more willing to leave that paper billing\n",
    "- Customer pay using electronic check is more willing to leave\n",
    "\n",
    "I Can conclude that mostly customers are suffering from the services , and specially advances customers who are using paperless billing and electronic payment. Some variables has no real impact of Churn but as a first trial for the model i will include all variables, should remove variables in the tuning phase"
   ]
  },
  {
   "cell_type": "markdown",
   "metadata": {
    "_uuid": "33981b43f5801c9f9fd268d66df653d401949918"
   },
   "source": [
    "## Categorical Variables Encoding\n",
    "\n",
    "For logistics variables(2 classes) will encode using Label Encoder , For Variables has more than 2 classes will use get_dummies function "
   ]
  },
  {
   "cell_type": "code",
   "execution_count": 85,
   "metadata": {
    "_uuid": "ef262c272bd7458520cdcd3f1118e4e640aff137"
   },
   "outputs": [
    {
     "name": "stdout",
     "output_type": "stream",
     "text": [
      "gender ['Female' 'Male']\n",
      "SeniorCitizen ['No' 'Yes']\n",
      "Partner ['Yes' 'No']\n",
      "Dependents ['No' 'Yes']\n",
      "PhoneService ['No' 'Yes']\n",
      "MultipleLines ['No' 'Yes']\n",
      "OnlineSecurity ['No' 'Yes']\n",
      "OnlineBackup ['Yes' 'No']\n",
      "DeviceProtection ['No' 'Yes']\n",
      "TechSupport ['No' 'Yes']\n",
      "StreamingTV ['No' 'Yes']\n",
      "StreamingMovies ['No' 'Yes']\n",
      "PaperlessBilling ['Yes' 'No']\n",
      "Churn ['No' 'Yes']\n"
     ]
    }
   ],
   "source": [
    "from sklearn.preprocessing import LabelEncoder\n",
    "label_encoder=LabelEncoder()\n",
    "for x in [i for i in df.columns if len(df[i].unique())==2]:\n",
    "    print(x, df[x].unique())\n",
    "    df[x]= label_encoder.fit_transform(df[x])"
   ]
  },
  {
   "cell_type": "code",
   "execution_count": 86,
   "metadata": {
    "_uuid": "840b3bd026cca3a7adb5a661bafa4699dcec2caf"
   },
   "outputs": [
    {
     "data": {
      "text/plain": [
       "[['gender', array([0, 1])],\n",
       " ['SeniorCitizen', array([0, 1])],\n",
       " ['Partner', array([1, 0])],\n",
       " ['Dependents', array([0, 1])],\n",
       " ['PhoneService', array([0, 1])],\n",
       " ['MultipleLines', array([0, 1])],\n",
       " ['InternetService', array(['DSL', 'Fiber optic', 'No'], dtype=object)],\n",
       " ['OnlineSecurity', array([0, 1])],\n",
       " ['OnlineBackup', array([1, 0])],\n",
       " ['DeviceProtection', array([0, 1])],\n",
       " ['TechSupport', array([0, 1])],\n",
       " ['StreamingTV', array([0, 1])],\n",
       " ['StreamingMovies', array([0, 1])],\n",
       " ['Contract', array(['Month-to-month', 'One year', 'Two year'], dtype=object)],\n",
       " ['PaperlessBilling', array([1, 0])],\n",
       " ['PaymentMethod',\n",
       "  array(['Electronic check', 'Mailed check', 'Bank transfer (automatic)',\n",
       "         'Credit card (automatic)'], dtype=object)],\n",
       " ['Churn', array([0, 1])]]"
      ]
     },
     "execution_count": 86,
     "metadata": {},
     "output_type": "execute_result"
    }
   ],
   "source": [
    "#Check Variables after Encoding\n",
    "[[x, df[x].unique()] for x in [i for i in df.columns if len(df[i].unique())<10]]"
   ]
  },
  {
   "cell_type": "code",
   "execution_count": 87,
   "metadata": {
    "_uuid": "aec582204548ea634c8d1b3da985299da3981706"
   },
   "outputs": [],
   "source": [
    "#Encode Variables with more than 2 Classes\n",
    "df= pd.get_dummies(df, columns= [i for i in df.columns if df[i].dtypes=='object'],drop_first=True)\n",
    "  "
   ]
  },
  {
   "cell_type": "code",
   "execution_count": 88,
   "metadata": {
    "_uuid": "f46b6f28d733e41c907fc08a6c7657343fab3a30"
   },
   "outputs": [
    {
     "data": {
      "text/plain": [
       "[['gender', array([0, 1])],\n",
       " ['SeniorCitizen', array([0, 1])],\n",
       " ['Partner', array([1, 0])],\n",
       " ['Dependents', array([0, 1])],\n",
       " ['PhoneService', array([0, 1])],\n",
       " ['MultipleLines', array([0, 1])],\n",
       " ['OnlineSecurity', array([0, 1])],\n",
       " ['OnlineBackup', array([1, 0])],\n",
       " ['DeviceProtection', array([0, 1])],\n",
       " ['TechSupport', array([0, 1])],\n",
       " ['StreamingTV', array([0, 1])],\n",
       " ['StreamingMovies', array([0, 1])],\n",
       " ['PaperlessBilling', array([1, 0])],\n",
       " ['Churn', array([0, 1])],\n",
       " ['InternetService_Fiber optic', array([0, 1], dtype=uint8)],\n",
       " ['InternetService_No', array([0, 1], dtype=uint8)],\n",
       " ['Contract_One year', array([0, 1], dtype=uint8)],\n",
       " ['Contract_Two year', array([0, 1], dtype=uint8)],\n",
       " ['PaymentMethod_Credit card (automatic)', array([0, 1], dtype=uint8)],\n",
       " ['PaymentMethod_Electronic check', array([1, 0], dtype=uint8)],\n",
       " ['PaymentMethod_Mailed check', array([0, 1], dtype=uint8)]]"
      ]
     },
     "execution_count": 88,
     "metadata": {},
     "output_type": "execute_result"
    }
   ],
   "source": [
    "#Check Variables after Encoding\n",
    "[[x, df[x].unique()] for x in [i for i in df.columns if len(df[i].unique())<10]]"
   ]
  },
  {
   "cell_type": "markdown",
   "metadata": {
    "_uuid": "9c94ed56f4a4a6a0ff93e06dbe4d8923657c8635"
   },
   "source": [
    "Variables Looks good now and we are ready for data splitting and scaling\n",
    "\n",
    "# Data Scaling and Splitting"
   ]
  },
  {
   "cell_type": "code",
   "execution_count": 91,
   "metadata": {
    "_uuid": "2875e8a30fb9a5c7a6e99fdabe2f4d976c72390e"
   },
   "outputs": [],
   "source": [
    "#Create Features DataFrame\n",
    "X=df.drop('Churn',axis=1)\n",
    "#Create Target Series\n",
    "y=df['Churn']\n",
    "#Split Data\n",
    "X_train, X_test, y_train, y_test = train_test_split(X, y, test_size = 0.25, random_state = 0)"
   ]
  },
  {
   "cell_type": "code",
   "execution_count": 92,
   "metadata": {
    "_uuid": "14fa2ab0ee8ead01ec0ea0cedf71969fcc2a6237"
   },
   "outputs": [],
   "source": [
    "#Scale Data\n",
    "sc= StandardScaler()\n",
    "X_train = sc.fit_transform(X_train)\n",
    "X_train=pd.DataFrame(X_train,columns=X.columns)\n",
    "X_test=sc.transform(X_test)"
   ]
  },
  {
   "cell_type": "code",
   "execution_count": 93,
   "metadata": {
    "_uuid": "1036a398d9601e38676c6ddaa10a431c6e4471a7"
   },
   "outputs": [
    {
     "data": {
      "text/html": [
       "<div>\n",
       "<style scoped>\n",
       "    .dataframe tbody tr th:only-of-type {\n",
       "        vertical-align: middle;\n",
       "    }\n",
       "\n",
       "    .dataframe tbody tr th {\n",
       "        vertical-align: top;\n",
       "    }\n",
       "\n",
       "    .dataframe thead th {\n",
       "        text-align: right;\n",
       "    }\n",
       "</style>\n",
       "<table border=\"1\" class=\"dataframe\">\n",
       "  <thead>\n",
       "    <tr style=\"text-align: right;\">\n",
       "      <th></th>\n",
       "      <th>gender</th>\n",
       "      <th>SeniorCitizen</th>\n",
       "      <th>Partner</th>\n",
       "      <th>Dependents</th>\n",
       "      <th>tenure</th>\n",
       "      <th>PhoneService</th>\n",
       "      <th>MultipleLines</th>\n",
       "      <th>OnlineSecurity</th>\n",
       "      <th>OnlineBackup</th>\n",
       "      <th>DeviceProtection</th>\n",
       "      <th>...</th>\n",
       "      <th>PaperlessBilling</th>\n",
       "      <th>MonthlyCharges</th>\n",
       "      <th>TotalCharges</th>\n",
       "      <th>InternetService_Fiber optic</th>\n",
       "      <th>InternetService_No</th>\n",
       "      <th>Contract_One year</th>\n",
       "      <th>Contract_Two year</th>\n",
       "      <th>PaymentMethod_Credit card (automatic)</th>\n",
       "      <th>PaymentMethod_Electronic check</th>\n",
       "      <th>PaymentMethod_Mailed check</th>\n",
       "    </tr>\n",
       "  </thead>\n",
       "  <tbody>\n",
       "    <tr>\n",
       "      <th>0</th>\n",
       "      <td>-0.995467</td>\n",
       "      <td>-0.435476</td>\n",
       "      <td>-0.969419</td>\n",
       "      <td>-0.656543</td>\n",
       "      <td>-0.340191</td>\n",
       "      <td>0.32585</td>\n",
       "      <td>-0.853134</td>\n",
       "      <td>-0.636816</td>\n",
       "      <td>-0.724449</td>\n",
       "      <td>1.387334</td>\n",
       "      <td>...</td>\n",
       "      <td>0.820754</td>\n",
       "      <td>-0.514314</td>\n",
       "      <td>-0.462221</td>\n",
       "      <td>-0.885697</td>\n",
       "      <td>-0.525797</td>\n",
       "      <td>-0.517280</td>\n",
       "      <td>-0.555335</td>\n",
       "      <td>1.913625</td>\n",
       "      <td>-0.709015</td>\n",
       "      <td>-0.548037</td>\n",
       "    </tr>\n",
       "    <tr>\n",
       "      <th>1</th>\n",
       "      <td>1.004554</td>\n",
       "      <td>2.296336</td>\n",
       "      <td>-0.969419</td>\n",
       "      <td>-0.656543</td>\n",
       "      <td>0.883210</td>\n",
       "      <td>0.32585</td>\n",
       "      <td>-0.853134</td>\n",
       "      <td>-0.636816</td>\n",
       "      <td>-0.724449</td>\n",
       "      <td>1.387334</td>\n",
       "      <td>...</td>\n",
       "      <td>-1.218392</td>\n",
       "      <td>0.017840</td>\n",
       "      <td>0.554389</td>\n",
       "      <td>-0.885697</td>\n",
       "      <td>-0.525797</td>\n",
       "      <td>1.933189</td>\n",
       "      <td>-0.555335</td>\n",
       "      <td>-0.522569</td>\n",
       "      <td>-0.709015</td>\n",
       "      <td>-0.548037</td>\n",
       "    </tr>\n",
       "    <tr>\n",
       "      <th>2</th>\n",
       "      <td>1.004554</td>\n",
       "      <td>-0.435476</td>\n",
       "      <td>-0.969419</td>\n",
       "      <td>-0.656543</td>\n",
       "      <td>-1.196572</td>\n",
       "      <td>-3.06890</td>\n",
       "      <td>-0.853134</td>\n",
       "      <td>-0.636816</td>\n",
       "      <td>-0.724449</td>\n",
       "      <td>1.387334</td>\n",
       "      <td>...</td>\n",
       "      <td>0.820754</td>\n",
       "      <td>-0.819594</td>\n",
       "      <td>-0.950232</td>\n",
       "      <td>-0.885697</td>\n",
       "      <td>-0.525797</td>\n",
       "      <td>-0.517280</td>\n",
       "      <td>-0.555335</td>\n",
       "      <td>-0.522569</td>\n",
       "      <td>-0.709015</td>\n",
       "      <td>1.824694</td>\n",
       "    </tr>\n",
       "    <tr>\n",
       "      <th>3</th>\n",
       "      <td>-0.995467</td>\n",
       "      <td>-0.435476</td>\n",
       "      <td>1.031546</td>\n",
       "      <td>-0.656543</td>\n",
       "      <td>1.168670</td>\n",
       "      <td>0.32585</td>\n",
       "      <td>-0.853134</td>\n",
       "      <td>-0.636816</td>\n",
       "      <td>-0.724449</td>\n",
       "      <td>-0.720807</td>\n",
       "      <td>...</td>\n",
       "      <td>-1.218392</td>\n",
       "      <td>-1.483535</td>\n",
       "      <td>-0.442059</td>\n",
       "      <td>-0.885697</td>\n",
       "      <td>1.901876</td>\n",
       "      <td>-0.517280</td>\n",
       "      <td>1.800714</td>\n",
       "      <td>1.913625</td>\n",
       "      <td>-0.709015</td>\n",
       "      <td>-0.548037</td>\n",
       "    </tr>\n",
       "    <tr>\n",
       "      <th>4</th>\n",
       "      <td>1.004554</td>\n",
       "      <td>-0.435476</td>\n",
       "      <td>-0.969419</td>\n",
       "      <td>-0.656543</td>\n",
       "      <td>-0.829552</td>\n",
       "      <td>0.32585</td>\n",
       "      <td>1.172149</td>\n",
       "      <td>-0.636816</td>\n",
       "      <td>-0.724449</td>\n",
       "      <td>-0.720807</td>\n",
       "      <td>...</td>\n",
       "      <td>0.820754</td>\n",
       "      <td>0.658427</td>\n",
       "      <td>-0.539108</td>\n",
       "      <td>1.129054</td>\n",
       "      <td>-0.525797</td>\n",
       "      <td>-0.517280</td>\n",
       "      <td>-0.555335</td>\n",
       "      <td>-0.522569</td>\n",
       "      <td>1.410407</td>\n",
       "      <td>-0.548037</td>\n",
       "    </tr>\n",
       "  </tbody>\n",
       "</table>\n",
       "<p>5 rows × 23 columns</p>\n",
       "</div>"
      ],
      "text/plain": [
       "     gender  SeniorCitizen   Partner  Dependents    tenure  PhoneService  \\\n",
       "0 -0.995467      -0.435476 -0.969419   -0.656543 -0.340191       0.32585   \n",
       "1  1.004554       2.296336 -0.969419   -0.656543  0.883210       0.32585   \n",
       "2  1.004554      -0.435476 -0.969419   -0.656543 -1.196572      -3.06890   \n",
       "3 -0.995467      -0.435476  1.031546   -0.656543  1.168670       0.32585   \n",
       "4  1.004554      -0.435476 -0.969419   -0.656543 -0.829552       0.32585   \n",
       "\n",
       "   MultipleLines  OnlineSecurity  OnlineBackup  DeviceProtection  ...  \\\n",
       "0      -0.853134       -0.636816     -0.724449          1.387334  ...   \n",
       "1      -0.853134       -0.636816     -0.724449          1.387334  ...   \n",
       "2      -0.853134       -0.636816     -0.724449          1.387334  ...   \n",
       "3      -0.853134       -0.636816     -0.724449         -0.720807  ...   \n",
       "4       1.172149       -0.636816     -0.724449         -0.720807  ...   \n",
       "\n",
       "   PaperlessBilling  MonthlyCharges  TotalCharges  \\\n",
       "0          0.820754       -0.514314     -0.462221   \n",
       "1         -1.218392        0.017840      0.554389   \n",
       "2          0.820754       -0.819594     -0.950232   \n",
       "3         -1.218392       -1.483535     -0.442059   \n",
       "4          0.820754        0.658427     -0.539108   \n",
       "\n",
       "   InternetService_Fiber optic  InternetService_No  Contract_One year  \\\n",
       "0                    -0.885697           -0.525797          -0.517280   \n",
       "1                    -0.885697           -0.525797           1.933189   \n",
       "2                    -0.885697           -0.525797          -0.517280   \n",
       "3                    -0.885697            1.901876          -0.517280   \n",
       "4                     1.129054           -0.525797          -0.517280   \n",
       "\n",
       "   Contract_Two year  PaymentMethod_Credit card (automatic)  \\\n",
       "0          -0.555335                               1.913625   \n",
       "1          -0.555335                              -0.522569   \n",
       "2          -0.555335                              -0.522569   \n",
       "3           1.800714                               1.913625   \n",
       "4          -0.555335                              -0.522569   \n",
       "\n",
       "   PaymentMethod_Electronic check  PaymentMethod_Mailed check  \n",
       "0                       -0.709015                   -0.548037  \n",
       "1                       -0.709015                   -0.548037  \n",
       "2                       -0.709015                    1.824694  \n",
       "3                       -0.709015                   -0.548037  \n",
       "4                        1.410407                   -0.548037  \n",
       "\n",
       "[5 rows x 23 columns]"
      ]
     },
     "execution_count": 93,
     "metadata": {},
     "output_type": "execute_result"
    }
   ],
   "source": [
    "#Check Data after Scaling\n",
    "X_train.head()"
   ]
  },
  {
   "cell_type": "markdown",
   "metadata": {
    "_uuid": "17348a019a3c1287c8c287afb2baf0ba48166c38"
   },
   "source": [
    "# Applying ML Models\n",
    "\n",
    "## Random Forest Model\n",
    "\n",
    "Will start by train Random forest model using default parameters and all variables and get initial results"
   ]
  },
  {
   "cell_type": "code",
   "execution_count": 94,
   "metadata": {
    "_uuid": "77c7d90b80137562a596aff267b6a48e75f8324d"
   },
   "outputs": [
    {
     "data": {
      "text/plain": [
       "RandomForestClassifier()"
      ]
     },
     "execution_count": 94,
     "metadata": {},
     "output_type": "execute_result"
    }
   ],
   "source": [
    "#Apply RandomForest Algorethm\n",
    "random_classifier= RandomForestClassifier()\n",
    "random_classifier.fit(X_train,y_train)"
   ]
  },
  {
   "cell_type": "code",
   "execution_count": 95,
   "metadata": {
    "_uuid": "bfbe8428bc9ea081532e2ada58afa17f777ce277"
   },
   "outputs": [],
   "source": [
    "y_pred= random_classifier.predict(X_test)"
   ]
  },
  {
   "cell_type": "code",
   "execution_count": 96,
   "metadata": {
    "_uuid": "c8a40645d32c9a6b430deb90781b77e9de30489a"
   },
   "outputs": [
    {
     "name": "stdout",
     "output_type": "stream",
     "text": [
      "              precision    recall  f1-score   support\n",
      "\n",
      "           0       0.82      0.89      0.86      1298\n",
      "           1       0.61      0.47      0.53       463\n",
      "\n",
      "    accuracy                           0.78      1761\n",
      "   macro avg       0.72      0.68      0.69      1761\n",
      "weighted avg       0.77      0.78      0.77      1761\n",
      "\n"
     ]
    }
   ],
   "source": [
    "#Classification Report\n",
    "print(classification_report(y_test,y_pred))"
   ]
  },
  {
   "cell_type": "code",
   "execution_count": 97,
   "metadata": {
    "_uuid": "8448f1a4ca1e65c2da5d577b81182b4f818bc85f"
   },
   "outputs": [
    {
     "data": {
      "text/plain": [
       "Text(91.68, 0.5, 'predicted label')"
      ]
     },
     "execution_count": 97,
     "metadata": {},
     "output_type": "execute_result"
    },
    {
     "data": {
      "image/png": "[encoded data removed]",
      "text/plain": [
       "<Figure size 432x288 with 1 Axes>"
      ]
     },
     "metadata": {
      "needs_background": "light"
     },
     "output_type": "display_data"
    }
   ],
   "source": [
    "#Confusion Matrix\n",
    "mat = confusion_matrix(y_test, y_pred)\n",
    "sns.heatmap(mat.T, square=True, annot=True, fmt='d', cbar=False,\n",
    "          xticklabels=['No','Yes'],\n",
    "          yticklabels=['No','Yes'] )\n",
    "plt.xlabel('true label')\n",
    "plt.ylabel('predicted label')"
   ]
  },
  {
   "cell_type": "code",
   "execution_count": null,
   "metadata": {},
   "outputs": [],
   "source": []
  },
  {
   "cell_type": "code",
   "execution_count": 98,
   "metadata": {},
   "outputs": [
    {
     "data": {
      "text/plain": [
       "array([0.02850957, 0.02166771, 0.02251845, 0.01938   , 0.18038457,\n",
       "       0.00688246, 0.02096962, 0.02310816, 0.02239562, 0.01961552,\n",
       "       0.02110613, 0.01940823, 0.01875909, 0.02564149, 0.17418014,\n",
       "       0.18927308, 0.04461509, 0.01670005, 0.02491806, 0.03304899,\n",
       "       0.01324175, 0.04136597, 0.01231023])"
      ]
     },
     "execution_count": 98,
     "metadata": {},
     "output_type": "execute_result"
    }
   ],
   "source": [
    "random_classifier.feature_importances_"
   ]
  },
  {
   "cell_type": "markdown",
   "metadata": {
    "_uuid": "d43f4b16d1ea3529833966dc2b57ee2fbe6a7ebf"
   },
   "source": [
    "Result are not bad as a start. Recall, and Precision of Churn='Yes' is not that good. We need to check features importance for the next tuning"
   ]
  },
  {
   "cell_type": "code",
   "execution_count": 34,
   "metadata": {
    "_uuid": "83e207a6822f7c74afb9d5273db81e9dbc9a3119"
   },
   "outputs": [
    {
     "data": {
      "text/plain": [
       "TotalCharges                             0.189220\n",
       "MonthlyCharges                           0.181923\n",
       "tenure                                   0.173162\n",
       "InternetService_Fiber optic              0.042535\n",
       "PaymentMethod_Electronic check           0.039414\n",
       "Contract_Two year                        0.033707\n",
       "gender                                   0.026791\n",
       "PaperlessBilling                         0.026692\n",
       "Contract_One year                        0.026200\n",
       "Partner                                  0.023885\n",
       "OnlineBackup                             0.022643\n",
       "OnlineSecurity                           0.022601\n",
       "TechSupport                              0.022090\n",
       "SeniorCitizen                            0.021717\n",
       "MultipleLines                            0.020878\n",
       "Dependents                               0.019619\n",
       "DeviceProtection                         0.018713\n",
       "StreamingTV                              0.018595\n",
       "StreamingMovies                          0.017899\n",
       "InternetService_No                       0.017894\n",
       "PaymentMethod_Credit card (automatic)    0.013966\n",
       "PaymentMethod_Mailed check               0.013166\n",
       "PhoneService                             0.006691\n",
       "dtype: float64"
      ]
     },
     "execution_count": 34,
     "metadata": {},
     "output_type": "execute_result"
    }
   ],
   "source": [
    "#get features Importances\n",
    "xx= pd.Series(random_classifier.feature_importances_,index=X.columns)\n",
    "xx.sort_values(ascending=False)"
   ]
  },
  {
   "cell_type": "markdown",
   "metadata": {
    "_uuid": "df6631452b0172a7d91c35c28bb19442c2f94daa"
   },
   "source": [
    "We need to use this list in next tuning of the model\n",
    "\n",
    "Finally will draw ROC curve for the model"
   ]
  },
  {
   "cell_type": "code",
   "execution_count": 99,
   "metadata": {
    "_uuid": "e5a4f697995b803fc62d056851f74869ae6a0110"
   },
   "outputs": [],
   "source": [
    "y_pred_proba=random_classifier.predict_proba(X_test)[:,1]"
   ]
  },
  {
   "cell_type": "code",
   "execution_count": 100,
   "metadata": {
    "_uuid": "57584f5715ab63e180821919847afe68885531c7"
   },
   "outputs": [
    {
     "data": {
      "text/plain": [
       "<matplotlib.legend.Legend at 0x168a8a7ad90>"
      ]
     },
     "execution_count": 100,
     "metadata": {},
     "output_type": "execute_result"
    },
    {
     "data": {
      "image/png": "[encoded data removed]",
      "text/plain": [
       "<Figure size 432x288 with 1 Axes>"
      ]
     },
     "metadata": {
      "needs_background": "light"
     },
     "output_type": "display_data"
    }
   ],
   "source": [
    "fpr, tpr, _ = roc_curve(y_test, y_pred_proba)\n",
    "roc_auc=auc(fpr,tpr)\n",
    "#Now Draw ROC using fpr , tpr\n",
    "plt.plot([0, 1], [0, 1], 'k--',label='Random')\n",
    "plt.plot(fpr,tpr,label='ROC curve (area = %0.2f)' %roc_auc)\n",
    "plt.xlabel('False positive rate')\n",
    "plt.ylabel('True positive rate')\n",
    "plt.title('Random Forest ROC curve-taroonreddy.com')\n",
    "plt.legend(loc='best')\n"
   ]
  },
  {
   "cell_type": "code",
   "execution_count": null,
   "metadata": {},
   "outputs": [],
   "source": []
  },
  {
   "cell_type": "code",
   "execution_count": null,
   "metadata": {},
   "outputs": [],
   "source": []
  },
  {
   "cell_type": "code",
   "execution_count": null,
   "metadata": {},
   "outputs": [],
   "source": []
  },
  {
   "cell_type": "code",
   "execution_count": null,
   "metadata": {},
   "outputs": [],
   "source": []
  },
  {
   "cell_type": "code",
   "execution_count": null,
   "metadata": {},
   "outputs": [],
   "source": []
  },
  {
   "cell_type": "code",
   "execution_count": null,
   "metadata": {},
   "outputs": [],
   "source": []
  },
  {
   "cell_type": "code",
   "execution_count": null,
   "metadata": {},
   "outputs": [],
   "source": []
  },
  {
   "cell_type": "code",
   "execution_count": null,
   "metadata": {},
   "outputs": [],
   "source": []
  },
  {
   "cell_type": "code",
   "execution_count": null,
   "metadata": {},
   "outputs": [],
   "source": []
  },
  {
   "cell_type": "code",
   "execution_count": null,
   "metadata": {},
   "outputs": [],
   "source": []
  },
  {
   "cell_type": "code",
   "execution_count": 102,
   "metadata": {},
   "outputs": [
    {
     "name": "stdout",
     "output_type": "stream",
     "text": [
      "[0.  0.  0.5 0.5 1. ]\n",
      "[0.  0.5 0.5 1.  1. ]\n",
      "[1.8  0.8  0.4  0.35 0.1 ]\n"
     ]
    }
   ],
   "source": [
    "import numpy as np\n",
    "from sklearn import metrics\n",
    "y = np.array([1, 1, 2, 2])\n",
    "scores = np.array([0.1, 0.4, 0.35, 0.8])\n",
    "fpr, tpr, thresholds = metrics.roc_curve(y, scores, pos_label=2)\n",
    "print(fpr)\n",
    "print(tpr)\n",
    "print(thresholds)\n",
    "\n"
   ]
  },
  {
   "cell_type": "code",
   "execution_count": 103,
   "metadata": {},
   "outputs": [
    {
     "data": {
      "text/plain": [
       "<matplotlib.legend.Legend at 0x168a8aafdf0>"
      ]
     },
     "execution_count": 103,
     "metadata": {},
     "output_type": "execute_result"
    },
    {
     "data": {
      "image/png": "[encoded data removed]",
      "text/plain": [
       "<Figure size 432x288 with 1 Axes>"
      ]
     },
     "metadata": {
      "needs_background": "light"
     },
     "output_type": "display_data"
    }
   ],
   "source": [
    "fpr, tpr, thresholds = metrics.roc_curve(y, scores, pos_label=2,)\n",
    "roc_auc=auc(fpr,tpr)\n",
    "plt.plot([0, 1], [0, 1], 'k--',label='Random')\n",
    "plt.plot(fpr,tpr,label='ROC curve (area = %0.2f)' %roc_auc)\n",
    "plt.xlabel('False positive rate')\n",
    "plt.ylabel('True positive rate')\n",
    "plt.title('Random Forest ROC curve-taroonreddy.com')\n",
    "plt.legend(loc='best')\n"
   ]
  },
  {
   "cell_type": "code",
   "execution_count": null,
   "metadata": {},
   "outputs": [],
   "source": []
  }
 ],
 "metadata": {
  "kernelspec": {
   "display_name": "Python 3 (ipykernel)",
   "language": "python",
   "name": "python3"
  },
  "language_info": {
   "codemirror_mode": {
    "name": "ipython",
    "version": 3
   },
   "file_extension": ".py",
   "mimetype": "text/x-python",
   "name": "python",
   "nbconvert_exporter": "python",
   "pygments_lexer": "ipython3",
   "version": "3.9.7"
  }
 },
 "nbformat": 4,
 "nbformat_minor": 1
}
