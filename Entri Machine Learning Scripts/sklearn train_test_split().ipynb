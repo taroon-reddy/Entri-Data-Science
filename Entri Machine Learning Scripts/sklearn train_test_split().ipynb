{
 "cells": [
  {
   "cell_type": "code",
   "execution_count": 15,
   "id": "c8c9d475",
   "metadata": {},
   "outputs": [],
   "source": [
    "import numpy as np"
   ]
  },
  {
   "cell_type": "code",
   "execution_count": 33,
   "id": "31f338d7",
   "metadata": {},
   "outputs": [
    {
     "name": "stdout",
     "output_type": "stream",
     "text": [
      "fetching the independent variables [[ 1  2]\n",
      " [ 3  4]\n",
      " [ 5  6]\n",
      " [ 7  8]\n",
      " [ 9 10]\n",
      " [11 12]\n",
      " [13 14]\n",
      " [15 16]\n",
      " [17 18]\n",
      " [19 20]\n",
      " [21 22]\n",
      " [23 24]]\n",
      "(12, 2)\n",
      "fetching the dependent variable/Target variable [0 1 1 0 1 0 0 1 1 0 1 0]\n",
      "(12,)\n"
     ]
    }
   ],
   "source": [
    "x = np.arange(1, 25).reshape(12, 2)\n",
    "y = np.array([0, 1, 1, 0, 1, 0, 0, 1, 1, 0, 1, 0])\n",
    "\n",
    "print(\"fetching the independent variables\",x)\n",
    "print(x.shape)\n",
    "print(\"fetching the dependent variable/Target variable\",y)\n",
    "print(y.shape)"
   ]
  },
  {
   "cell_type": "code",
   "execution_count": 34,
   "id": "7813b96e",
   "metadata": {},
   "outputs": [
    {
     "name": "stdout",
     "output_type": "stream",
     "text": [
      "(12, 2)\n",
      "(12,)\n"
     ]
    }
   ],
   "source": [
    "print(x.shape)\n",
    "print(y.shape)"
   ]
  },
  {
   "cell_type": "code",
   "execution_count": 35,
   "id": "248a75b1",
   "metadata": {},
   "outputs": [],
   "source": [
    "from sklearn.model_selection import train_test_split"
   ]
  },
  {
   "cell_type": "code",
   "execution_count": 41,
   "id": "03d04bbe",
   "metadata": {},
   "outputs": [],
   "source": [
    "x_train, x_test, y_train, y_test = train_test_split(x, y,test_size=0.30,random_state=42)"
   ]
  },
  {
   "cell_type": "markdown",
   "id": "bb25bb79",
   "metadata": {},
   "source": [
    "#### Given two sequences, like x and y here, train_test_split() performs the split and returns four sequences (in this case NumPy arrays) in this order:\n",
    "\n",
    "    1.x_train: The training part of the first sequence (x)\n",
    "    2.x_test: The test part of the first sequence (x)\n",
    "    3.y_train: The training part of the second sequence (y)\n",
    "    4.y_test: The test part of the second sequence (y)"
   ]
  },
  {
   "cell_type": "code",
   "execution_count": 39,
   "id": "4db03fae",
   "metadata": {
    "scrolled": true
   },
   "outputs": [
    {
     "name": "stdout",
     "output_type": "stream",
     "text": [
      "x_train values are (8, 2)\n",
      "x_test values are (4, 2)\n",
      "y_train values are (8,)\n",
      "y_test values are (4,)\n",
      "x_train values are [[11 12]\n",
      " [ 5  6]\n",
      " [ 3  4]\n",
      " [23 24]\n",
      " [ 9 10]\n",
      " [15 16]\n",
      " [ 7  8]\n",
      " [13 14]]\n",
      "-----------\n",
      "x_test values are [[21 22]\n",
      " [19 20]\n",
      " [ 1  2]\n",
      " [17 18]]\n",
      "-----------\n",
      "y_train values are [0 1 1 0 1 1 0 0]\n",
      "-----------\n",
      "y_test values are [1 0 0 1]\n"
     ]
    }
   ],
   "source": [
    "print('x_train values are',x_train.shape)\n",
    "print('x_test values are',x_test.shape)\n",
    "print('y_train values are',y_train.shape)\n",
    "print('y_test values are',y_test.shape)\n",
    "print('x_train values are',x_train)\n",
    "print('-----------')\n",
    "print('x_test values are',x_test)\n",
    "print('-----------')\n",
    "print('y_train values are',y_train)\n",
    "print('-----------')\n",
    "print('y_test values are',y_test)"
   ]
  },
  {
   "cell_type": "markdown",
   "id": "48447629",
   "metadata": {},
   "source": [
    "    Note :-    \n",
    "    .Use train_test_split() to get training and test sets\n",
    "    .Control the size of the subsets with the parameters train_size and test_size\n",
    "    .Determine the randomness of your splits with the random_state parameter\n",
    "    .Obtain stratified splits with the stratify parameter\n",
    "    .Use train_test_split() as a part of supervised machine learning procedures"
   ]
  },
  {
   "cell_type": "code",
   "execution_count": 42,
   "id": "7a33e856",
   "metadata": {},
   "outputs": [],
   "source": [
    "x_train, x_test, y_train, y_test = train_test_split(x, y, test_size=0.33, random_state=4, stratify=y)"
   ]
  },
  {
   "cell_type": "markdown",
   "id": "ab3931b9",
   "metadata": {},
   "source": []
  },
  {
   "cell_type": "markdown",
   "id": "8bd50744",
   "metadata": {},
   "source": [
    "#### random_state is the object that controls randomization during splitting. It can be either an int or an instance of RandomState. The default value is None.  "
   ]
  },
  {
   "cell_type": "markdown",
   "id": "692de91f",
   "metadata": {},
   "source": [
    "#### shuffle is the Boolean object (True by default) that determines whether to shuffle the dataset before applying the split."
   ]
  },
  {
   "cell_type": "markdown",
   "id": "581a8465",
   "metadata": {},
   "source": [
    "#### Stratified splits are desirable in some cases, like when you’re classifying an imbalanced dataset, a dataset with a significant difference in the number of samples that belong to distinct classes."
   ]
  },
  {
   "cell_type": "code",
   "execution_count": null,
   "id": "06daa263",
   "metadata": {},
   "outputs": [],
   "source": []
  }
 ],
 "metadata": {
  "kernelspec": {
   "display_name": "Python 3 (ipykernel)",
   "language": "python",
   "name": "python3"
  },
  "language_info": {
   "codemirror_mode": {
    "name": "ipython",
    "version": 3
   },
   "file_extension": ".py",
   "mimetype": "text/x-python",
   "name": "python",
   "nbconvert_exporter": "python",
   "pygments_lexer": "ipython3",
   "version": "3.9.7"
  }
 },
 "nbformat": 4,
 "nbformat_minor": 5
}
