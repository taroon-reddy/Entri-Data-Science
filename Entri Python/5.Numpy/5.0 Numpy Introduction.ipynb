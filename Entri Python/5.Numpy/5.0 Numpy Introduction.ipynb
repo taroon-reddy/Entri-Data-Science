{
 "cells": [
  {
   "cell_type": "markdown",
   "metadata": {
    "colab_type": "text",
    "id": "F9MJmcoJ5KBl"
   },
   "source": [
    "# The Numpy Arrays\n",
    "\n",
    "<font color='blue'>  \n",
    "\n",
    "https://numpy.org/doc/stable/user/whatisnumpy.html\n",
    "    \n",
    " \n",
    "    \n",
    "</font>"
   ]
  },
  {
   "cell_type": "markdown",
   "metadata": {
    "colab_type": "text",
    "id": "M_wtB2DN5KBu"
   },
   "source": [
    "<font color='blue'>\n",
    "    \n",
    "**NumpyFeautres:**\n",
    "\n",
    "1. NumPy is a general-purpose array-processing package.\n",
    "2. NumPy is the fundamental package for scientific computing with Python\n",
    "3. Closer to hardware (efficiency)\n",
    "4. Designed for scientific computation (convenience)\n",
    "5. Also known as array oriented computing\n",
    "6. High-level number objects: integers, floating point\n",
    "7. Containers: lists (costless insertion and append), dictionaries (fast lookup)\n",
    "    \n",
    "    \n",
    "</font>    "
   ]
  },
  {
   "cell_type": "markdown",
   "metadata": {},
   "source": [
    "### Install Packages\n",
    "The only prerequisite for installing NumPy is Python itself.\n",
    "\n",
    "https://numpy.org/install/\n",
    "\n",
    "pip install numpy"
   ]
  }
 ],
 "metadata": {
  "colab": {
   "name": "1_Numpy_array_object.ipynb",
   "provenance": [],
   "version": "0.3.2"
  },
  "kernelspec": {
   "display_name": "Python 3 (ipykernel)",
   "language": "python",
   "name": "python3"
  },
  "language_info": {
   "codemirror_mode": {
    "name": "ipython",
    "version": 3
   },
   "file_extension": ".py",
   "mimetype": "text/x-python",
   "name": "python",
   "nbconvert_exporter": "python",
   "pygments_lexer": "ipython3",
   "version": "3.9.7"
  }
 },
 "nbformat": 4,
 "nbformat_minor": 1
}
