{
 "cells": [
  {
   "cell_type": "markdown",
   "metadata": {},
   "source": [
    "### Function Calling"
   ]
  },
  {
   "cell_type": "code",
   "execution_count": 1,
   "metadata": {},
   "outputs": [
    {
     "name": "stdout",
     "output_type": "stream",
     "text": [
      "Hello from python\n"
     ]
    }
   ],
   "source": [
    "def my_python():\n",
    "  print(\"Hello from python\")\n",
    "\n",
    "my_python()"
   ]
  },
  {
   "cell_type": "code",
   "execution_count": 3,
   "metadata": {},
   "outputs": [
    {
     "name": "stdout",
     "output_type": "stream",
     "text": [
      "Alex\n"
     ]
    }
   ],
   "source": [
    "def Alex():\n",
    "    print(\"Alex\")\n",
    "\n",
    "Alex()"
   ]
  },
  {
   "cell_type": "code",
   "execution_count": 2,
   "metadata": {},
   "outputs": [
    {
     "name": "stdout",
     "output_type": "stream",
     "text": [
      "Hello from python\n",
      "None\n"
     ]
    }
   ],
   "source": [
    "print(my_python())"
   ]
  },
  {
   "cell_type": "code",
   "execution_count": 6,
   "metadata": {},
   "outputs": [
    {
     "name": "stdout",
     "output_type": "stream",
     "text": [
      "Hello from python\n"
     ]
    }
   ],
   "source": [
    "my_python()"
   ]
  },
  {
   "cell_type": "code",
   "execution_count": 27,
   "metadata": {},
   "outputs": [
    {
     "data": {
      "text/plain": [
       "6"
      ]
     },
     "execution_count": 27,
     "metadata": {},
     "output_type": "execute_result"
    }
   ],
   "source": [
    "num1 = 0\n",
    "\n",
    "\n",
    "\n",
    "num2 = num1 + 6\n",
    "\n",
    "num1\n",
    "num2"
   ]
  },
  {
   "cell_type": "code",
   "execution_count": 32,
   "metadata": {},
   "outputs": [
    {
     "ename": "IndentationError",
     "evalue": "expected an indented block (<ipython-input-32-8365a44dad25>, line 3)",
     "output_type": "error",
     "traceback": [
      "\u001b[1;36m  File \u001b[1;32m\"<ipython-input-32-8365a44dad25>\"\u001b[1;36m, line \u001b[1;32m3\u001b[0m\n\u001b[1;33m    c += 1\u001b[0m\n\u001b[1;37m    ^\u001b[0m\n\u001b[1;31mIndentationError\u001b[0m\u001b[1;31m:\u001b[0m expected an indented block\n"
     ]
    }
   ],
   "source": [
    "def my_function(a1,b1): #local c = 0\n",
    "\n",
    "c += 1\n",
    "a1 = b1+c \n",
    "     print(a1)\n",
    "     a1\n",
    "\n",
    "\n"
   ]
  },
  {
   "cell_type": "markdown",
   "metadata": {},
   "source": [
    "## Grouping"
   ]
  },
  {
   "cell_type": "code",
   "execution_count": 34,
   "metadata": {},
   "outputs": [
    {
     "data": {
      "text/plain": [
       "['1 123 456 7890',\n",
       " '+1 (123) 456 7890',\n",
       " '123-456-7890',\n",
       " '123.456.7890',\n",
       " '1234567890']"
      ]
     },
     "execution_count": 34,
     "metadata": {},
     "output_type": "execute_result"
    }
   ],
   "source": [
    "text = ['1 123 456 7890', '+1 (123) 456 7890', '123-456-7890', '123.456.7890', '1234567890']\n",
    "text"
   ]
  },
  {
   "cell_type": "code",
   "execution_count": 38,
   "metadata": {},
   "outputs": [
    {
     "ename": "IndentationError",
     "evalue": "unexpected indent (<ipython-input-38-0eb44d02301f>, line 3)",
     "output_type": "error",
     "traceback": [
      "\u001b[1;36m  File \u001b[1;32m\"<ipython-input-38-0eb44d02301f>\"\u001b[1;36m, line \u001b[1;32m3\u001b[0m\n\u001b[1;33m    for dt in text:\u001b[0m\n\u001b[1;37m    ^\u001b[0m\n\u001b[1;31mIndentationError\u001b[0m\u001b[1;31m:\u001b[0m unexpected indent\n"
     ]
    }
   ],
   "source": [
    "pat = r'(\\+?\\d?)\\s?(\\(?\\d{3}\\)?)[\\s\\-\\.]?(\\d{3})[\\s\\-\\.]?(\\d{4})' \n",
    "patc = re.compile(pat)\n",
    "   for dt in text:\n",
    "    m = re.search(patc, dt) if m:\n",
    "    print(m.group(), \"\\t\", m.group(1), \"\\t\", m.group(2), \"\\t\", m.group(3), \"\\t\", m.group(4))\n",
    "\n",
    "\n",
    "\n"
   ]
  },
  {
   "cell_type": "markdown",
   "metadata": {},
   "source": [
    "### Naming Groups\n"
   ]
  },
  {
   "cell_type": "code",
   "execution_count": null,
   "metadata": {},
   "outputs": [],
   "source": [
    "\n",
    "\n",
    "\n",
    "text = ['1 123 456 7890', '+1 (123) 456 7890', '123-456-7890', '123.456.7890', '1234567890']\n",
    "\n",
    "pat = r'(?P<add1>\\+?\\d?)\\s?(?P<area>\\(?\\d{3}\\)?)[\\s\\-\\.]?(?P<first3>\\d{3})[\\s\\-\\.]?(?P<last4>\\d{4})' patc = re.compile(pat)\n",
    "for dt in text:\n",
    "\n",
    "m = re.search(patc, dt) if m:\n",
    "print(m.group(), \"\\t\", m.group('add1'),\"\\t\", m.group('area'),\"\\t\", m.group('first3'),\"\\t\", m.group('last4') )\n"
   ]
  }
 ],
 "metadata": {
  "kernelspec": {
   "display_name": "Python 3 (ipykernel)",
   "language": "python",
   "name": "python3"
  },
  "language_info": {
   "codemirror_mode": {
    "name": "ipython",
    "version": 3
   },
   "file_extension": ".py",
   "mimetype": "text/x-python",
   "name": "python",
   "nbconvert_exporter": "python",
   "pygments_lexer": "ipython3",
   "version": "3.9.7"
  }
 },
 "nbformat": 4,
 "nbformat_minor": 2
}
